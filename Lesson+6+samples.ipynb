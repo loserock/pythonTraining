{
 "metadata": {
  "kernelspec": {
   "display_name": "Python 2",
   "language": "python",
   "name": "python2"
  },
  "language_info": {
   "codemirror_mode": {
    "name": "ipython",
    "version": 2
   },
   "file_extension": ".py",
   "mimetype": "text/x-python",
   "name": "python",
   "nbconvert_exporter": "python",
   "pygments_lexer": "ipython2",
   "version": "2.7.10"
  },
  "name": "",
  "signature": "sha256:a9d6040fd7115456f7ee14b915033adc96b78c7a95961fc80ef77f052baec04f"
 },
 "nbformat": 3,
 "nbformat_minor": 0,
 "worksheets": [
  {
   "cells": [
    {
     "cell_type": "markdown",
     "metadata": {
      "deletable": true,
      "editable": true
     },
     "source": [
      "# Lesson 6\n",
      "\n",
      ">**Info**:\n",
      ">   In IPython/Jupyter shell, every cell can contain multiple lines of Python code.\n",
      ">   IPython cells also can contain formatted text, like this.\n",
      ">   To execute a cell block, press CTRL+Enter!"
     ]
    },
    {
     "cell_type": "heading",
     "level": 2,
     "metadata": {
      "deletable": true,
      "editable": true
     },
     "source": [
      "Classes"
     ]
    },
    {
     "cell_type": "markdown",
     "metadata": {
      "deletable": true,
      "editable": true
     },
     "source": [
      "standard dummy class"
     ]
    },
    {
     "cell_type": "code",
     "collapsed": false,
     "input": [
      "class ClassName:\n",
      "    pass\n",
      "\n",
      "# new instance:\n",
      "ci = ClassName()\n",
      "\n",
      "print \"The defined class obj:\\n\", type(ClassName), ClassName\n",
      "print \"One instance of the class:\\n\", type(ci), ci"
     ],
     "language": "python",
     "metadata": {
      "deletable": true,
      "editable": true
     },
     "outputs": [
      {
       "output_type": "stream",
       "stream": "stdout",
       "text": [
        "The defined class obj:\n",
        "<type 'classobj'> __main__.ClassName\n",
        "One instance of the class:\n",
        "<type 'instance'> <__main__.ClassName instance at 0x7ff4b0bebf38>\n"
       ]
      }
     ],
     "prompt_number": 1
    },
    {
     "cell_type": "code",
     "collapsed": false,
     "input": [
      "class MyClass:\n",
      "    \"\"\"The documentation string\"\"\"\n",
      "    i = 12345 # a class variable\n",
      "    def simpleMethod(self):\n",
      "        print 'hello world'\n",
      "        return self.i\n",
      "    def otherThingToDo(self, param):\n",
      "        \"\"\"Function doc string.\n",
      "        This function does nothing interesting.\"\"\"\n",
      "        return self.i + param\n"
     ],
     "language": "python",
     "metadata": {},
     "outputs": [],
     "prompt_number": 2
    },
    {
     "cell_type": "code",
     "collapsed": false,
     "input": [
      "c1 = MyClass()\n",
      "a = c1.simpleMethod()\n",
      "print a"
     ],
     "language": "python",
     "metadata": {},
     "outputs": [
      {
       "output_type": "stream",
       "stream": "stdout",
       "text": [
        "hello world\n",
        "12345\n"
       ]
      }
     ],
     "prompt_number": 3
    },
    {
     "cell_type": "code",
     "collapsed": false,
     "input": [
      "help(c1.otherThingToDo)"
     ],
     "language": "python",
     "metadata": {},
     "outputs": [
      {
       "output_type": "stream",
       "stream": "stdout",
       "text": [
        "Help on method otherThingToDo in module __main__:\n",
        "\n",
        "otherThingToDo(self, param) method of __main__.MyClass instance\n",
        "    Function doc string.\n",
        "    This function does nothing interesting.\n",
        "\n"
       ]
      }
     ],
     "prompt_number": 4
    },
    {
     "cell_type": "code",
     "collapsed": false,
     "input": [
      "c2 = MyClass()\n",
      "c2_ref = c2\n",
      "print id(c1), id(c2), id(c2_ref)"
     ],
     "language": "python",
     "metadata": {},
     "outputs": [
      {
       "output_type": "stream",
       "stream": "stdout",
       "text": [
        "140688913987128 140688913985616 140688913985616\n"
       ]
      }
     ],
     "prompt_number": 5
    },
    {
     "cell_type": "heading",
     "level": 2,
     "metadata": {
      "deletable": true,
      "editable": true
     },
     "source": [
      "Thinking in OOP "
     ]
    },
    {
     "cell_type": "heading",
     "level": 3,
     "metadata": {},
     "source": [
      "Bank account example"
     ]
    },
    {
     "cell_type": "markdown",
     "metadata": {},
     "source": [
      "First, let's see a dummy example!"
     ]
    },
    {
     "cell_type": "code",
     "collapsed": false,
     "input": [
      "balance = 0\n",
      "\n",
      "def deposit(amount):\n",
      "    global balance\n",
      "    balance += amount\n",
      "    return balance\n",
      "\n",
      "def withdraw(amount):\n",
      "    global balance\n",
      "    balance -= amount\n",
      "    return balance\n",
      "\n",
      "print deposit(100)\n",
      "print withdraw(50)"
     ],
     "language": "python",
     "metadata": {},
     "outputs": [
      {
       "output_type": "stream",
       "stream": "stdout",
       "text": [
        "100\n",
        "50\n"
       ]
      }
     ],
     "prompt_number": 6
    },
    {
     "cell_type": "markdown",
     "metadata": {},
     "source": [
      "Secondly, thinking in OOP, but just with variables and function!"
     ]
    },
    {
     "cell_type": "code",
     "collapsed": true,
     "input": [
      "def make_account():\n",
      "    return {'balance': 0}\n",
      "\n",
      "def deposit(account, amount):\n",
      "    account['balance'] += amount\n",
      "    return account['balance']\n",
      "\n",
      "def withdraw(account, amount):\n",
      "    account['balance'] -= amount\n",
      "    return account['balance']"
     ],
     "language": "python",
     "metadata": {},
     "outputs": [],
     "prompt_number": 7
    },
    {
     "cell_type": "code",
     "collapsed": false,
     "input": [
      "a = make_account()\n",
      "b = make_account()\n",
      "\n",
      "print deposit(a, 100)\n",
      "print deposit(b, 50)\n",
      "print withdraw(b, 10)\n",
      "print withdraw(a, 10)"
     ],
     "language": "python",
     "metadata": {},
     "outputs": [
      {
       "output_type": "stream",
       "stream": "stdout",
       "text": [
        "100\n",
        "50\n",
        "40\n",
        "90\n"
       ]
      }
     ],
     "prompt_number": 8
    },
    {
     "cell_type": "markdown",
     "metadata": {},
     "source": [
      "And now for something completely... not different.\n",
      "\n",
      "Use **class** and **OOP** together!"
     ]
    },
    {
     "cell_type": "code",
     "collapsed": true,
     "input": [
      "class BankAccount:\n",
      "    def __init__(self):\n",
      "        self.balance = 0\n",
      "\n",
      "    def withdraw(self, amount):\n",
      "        self.balance -= amount\n",
      "        return self.balance\n",
      "\n",
      "    def deposit(self, amount):\n",
      "        self.balance += amount\n",
      "        return self.balance"
     ],
     "language": "python",
     "metadata": {},
     "outputs": [],
     "prompt_number": 9
    },
    {
     "cell_type": "code",
     "collapsed": false,
     "input": [
      "a = BankAccount()\n",
      "b = BankAccount()\n",
      "\n",
      "print a.deposit(100)\n",
      "print b.deposit(50)\n",
      "print b.withdraw(10)\n",
      "print a.withdraw(10)"
     ],
     "language": "python",
     "metadata": {},
     "outputs": [
      {
       "output_type": "stream",
       "stream": "stdout",
       "text": [
        "100\n",
        "50\n",
        "40\n",
        "90\n"
       ]
      }
     ],
     "prompt_number": 10
    },
    {
     "cell_type": "markdown",
     "metadata": {},
     "source": [
      "Use **inheritance** to improve!"
     ]
    },
    {
     "cell_type": "code",
     "collapsed": true,
     "input": [
      "class MinimumBalanceAccount(BankAccount):\n",
      "    def __init__(self, minimum_balance=0):\n",
      "        BankAccount.__init__(self)\n",
      "        self.minimum_balance = minimum_balance\n",
      "\n",
      "    def withdraw(self, amount):\n",
      "        if self.balance - amount < self.minimum_balance:\n",
      "            print 'Sorry, minimum balance must be maintained.'\n",
      "        else:\n",
      "            BankAccount.withdraw(self, amount)\n",
      "        return self.balance\n"
     ],
     "language": "python",
     "metadata": {},
     "outputs": [],
     "prompt_number": 11
    },
    {
     "cell_type": "code",
     "collapsed": false,
     "input": [
      "c = MinimumBalanceAccount(1000)\n",
      "\n",
      "\n",
      "print c.deposit(2000)\n",
      "print c.withdraw(100)\n",
      "print c.withdraw(1500)\n"
     ],
     "language": "python",
     "metadata": {},
     "outputs": [
      {
       "output_type": "stream",
       "stream": "stdout",
       "text": [
        "2000\n",
        "1900\n",
        "Sorry, minimum balance must be maintained.\n",
        "1900\n"
       ]
      }
     ],
     "prompt_number": 12
    },
    {
     "cell_type": "markdown",
     "metadata": {},
     "source": [
      "**Warning**, do not try the next at home, just if you know what you are doing!"
     ]
    },
    {
     "cell_type": "code",
     "collapsed": false,
     "input": [
      "def how_much_free(self):\n",
      "    return self.balance - getattr(self, \"minimum_balance\", 0)\n",
      "\n",
      "# here comes the magic:\n",
      "print how_much_free(a)\n",
      "print how_much_free(c)"
     ],
     "language": "python",
     "metadata": {},
     "outputs": [
      {
       "output_type": "stream",
       "stream": "stdout",
       "text": [
        "90\n",
        "900\n"
       ]
      }
     ],
     "prompt_number": 13
    },
    {
     "cell_type": "code",
     "collapsed": false,
     "input": [
      "# there is more magic:\n",
      "\n",
      "BankAccount.getavailable = how_much_free\n",
      "\n",
      "print a.getavailable()\n",
      "print c.getavailable()"
     ],
     "language": "python",
     "metadata": {},
     "outputs": [
      {
       "output_type": "stream",
       "stream": "stdout",
       "text": [
        "90\n",
        "900\n"
       ]
      }
     ],
     "prompt_number": 14
    },
    {
     "cell_type": "markdown",
     "metadata": {},
     "source": [
      "This is _meta programming_, called _monkey patching_. **Avoid it!!!**\n",
      "\n",
      "However, it is a real thing: https://en.wikipedia.org/wiki/Monkey_patch"
     ]
    },
    {
     "cell_type": "markdown",
     "metadata": {},
     "source": [
      "### Cup and coffee example\n",
      "\n",
      "Now we use some protected variable."
     ]
    },
    {
     "cell_type": "code",
     "collapsed": false,
     "input": [
      "class Cup():\n",
      "    def __init__(self, volume):\n",
      "        self.__volume = volume\n",
      "        self.__content = None\n",
      "        self.__used = 0\n",
      "    def fill_with(self, material, percent=100):\n",
      "        self.__content = material\n",
      "        self.__used = self.__volume * percent / 100.0\n",
      "    def look(self):\n",
      "        if self.__content:\n",
      "            return \"The cup is filled with %d ml %s.\"%(self.__used, self.__content)\n",
      "        else:\n",
      "            return \"The cup is empty.\"\n",
      "    \n",
      "\n",
      "    \n",
      "myCup = Cup(200)\n",
      "yourCup = Cup(250)\n",
      "\n",
      "myCup.fill_with(\"milk\", 50)\n",
      "\n",
      "print \"Let's see my cup!\",\n",
      "print myCup.look()\n",
      "print \"Let's see your cup!\",\n",
      "print yourCup.look()\n"
     ],
     "language": "python",
     "metadata": {
      "deletable": true,
      "editable": true
     },
     "outputs": [
      {
       "output_type": "stream",
       "stream": "stdout",
       "text": [
        "Let's see my cup! The cup is filled with 100 ml milk.\n",
        "Let's see your cup! The cup is empty.\n"
       ]
      }
     ],
     "prompt_number": 15
    },
    {
     "cell_type": "code",
     "collapsed": false,
     "input": [
      "class Coffee:\n",
      "    def __str__(self):\n",
      "        return \"coffee\"\n",
      "\n",
      "myCup.fill_with(Coffee(), 80)\n",
      "myCup.look()"
     ],
     "language": "python",
     "metadata": {},
     "outputs": [
      {
       "metadata": {},
       "output_type": "pyout",
       "prompt_number": 16,
       "text": [
        "'The cup is filled with 160 ml coffee.'"
       ]
      }
     ],
     "prompt_number": 16
    },
    {
     "cell_type": "code",
     "collapsed": false,
     "input": [
      "#some enhancements:\n",
      "class Coffee:\n",
      "    def __init__(self, coffeeType=None):\n",
      "        self.__coffeeType = coffeeType\n",
      "    def getType(self):\n",
      "        return self.__coffeeType\n",
      "    def hasType(self):\n",
      "        return bool(self.__coffeeType)\n",
      "    def __str__(self):\n",
      "        return \"coffee \"+self.getType() if self.hasType() else \"normal coffee\"\n",
      "\n",
      "\n",
      "myCup.fill_with(Coffee(), 75)\n",
      "yourCup.fill_with(Coffee(\"arabica\"), 50)\n",
      "\n",
      "# just for fun:\n",
      "print \"\\n\".join( [ c.look() for c in (myCup, yourCup) ] )"
     ],
     "language": "python",
     "metadata": {},
     "outputs": [
      {
       "output_type": "stream",
       "stream": "stdout",
       "text": [
        "The cup is filled with 150 ml normal coffee.\n",
        "The cup is filled with 125 ml coffee arabica.\n"
       ]
      }
     ],
     "prompt_number": 17
    },
    {
     "cell_type": "code",
     "collapsed": false,
     "input": [],
     "language": "python",
     "metadata": {},
     "outputs": [],
     "prompt_number": null
    },
    {
     "cell_type": "heading",
     "level": 2,
     "metadata": {},
     "source": [
      "Writing readable code"
     ]
    },
    {
     "cell_type": "heading",
     "level": 4,
     "metadata": {
      "deletable": true,
      "editable": true
     },
     "source": [
      "Using pep8 code format looks good"
     ]
    },
    {
     "cell_type": "markdown",
     "metadata": {
      "deletable": true,
      "editable": true
     },
     "source": [
      "just the raw code (a class which counts the instances):"
     ]
    },
    {
     "cell_type": "code",
     "collapsed": true,
     "input": [
      "class C:\n",
      "    __instances=[]\n",
      "    def __init__(self,name=None):\n",
      "        self.__name = str(name) if name else str(id(self))\n",
      "        self.__instances.append(self.__name)\n",
      "    def __del__(self):\n",
      "        self.__instances.remove(self.__name)\n",
      "    def numberOfInstances(self):\n",
      "        return len(self.__instances)\n"
     ],
     "language": "python",
     "metadata": {
      "deletable": true,
      "editable": true
     },
     "outputs": [],
     "prompt_number": null
    },
    {
     "cell_type": "markdown",
     "metadata": {
      "deletable": true,
      "editable": true
     },
     "source": [
      "pep8 formatted version:"
     ]
    },
    {
     "cell_type": "code",
     "collapsed": true,
     "input": [
      "class SampleClass(object):\n",
      "    \"\"\"\n",
      "    This is a sample class with a private name.\n",
      "    Has access to the names of the other instances.\n",
      "    \"\"\"\n",
      "    __instances = []\n",
      "\n",
      "    def __init__(self, name=None):\n",
      "        self.__name = str(name) if name else str(id(self))\n",
      "        self.__instances.append(self.__name)\n",
      "\n",
      "    def __del__(self):\n",
      "        self.__instances.remove(self.__name)\n",
      "\n",
      "    def instance_number(self):\n",
      "        \"Get the number of instances.\"\n",
      "        return len(self.__instances)"
     ],
     "language": "python",
     "metadata": {
      "deletable": true,
      "editable": true
     },
     "outputs": [],
     "prompt_number": 18
    },
    {
     "cell_type": "code",
     "collapsed": false,
     "input": [
      "#try it!\n",
      "\n",
      "print SampleClass.__doc__\n",
      "\n",
      "help(SampleClass)\n"
     ],
     "language": "python",
     "metadata": {
      "deletable": true,
      "editable": true
     },
     "outputs": [
      {
       "output_type": "stream",
       "stream": "stdout",
       "text": [
        "\n",
        "    This is a sample class with a private name.\n",
        "    Has access to the names of the other instances.\n",
        "    \n",
        "Help on class SampleClass in module __main__:\n",
        "\n",
        "class SampleClass(__builtin__.object)\n",
        " |  This is a sample class with a private name.\n",
        " |  Has access to the names of the other instances.\n",
        " |  \n",
        " |  Methods defined here:\n",
        " |  \n",
        " |  __del__(self)\n",
        " |  \n",
        " |  __init__(self, name=None)\n",
        " |  \n",
        " |  instance_number(self)\n",
        " |      Get the number of instances.\n",
        " |  \n",
        " |  ----------------------------------------------------------------------\n",
        " |  Data descriptors defined here:\n",
        " |  \n",
        " |  __dict__\n",
        " |      dictionary for instance variables (if defined)\n",
        " |  \n",
        " |  __weakref__\n",
        " |      list of weak references to the object (if defined)\n",
        "\n"
       ]
      }
     ],
     "prompt_number": 19
    },
    {
     "cell_type": "heading",
     "level": 3,
     "metadata": {
      "deletable": true,
      "editable": true
     },
     "source": [
      "More about **inheritance**"
     ]
    },
    {
     "cell_type": "code",
     "collapsed": false,
     "input": [
      "class Base(object):\n",
      "    __answer = 42\n",
      "    def fn(self):\n",
      "        print \"this is base\"\n",
      "    def get_answer(self):\n",
      "        return self.__answer\n",
      "        \n",
      "class Derived(Base):\n",
      "    def fn(self):\n",
      "        print \"this is derived\"\n",
      "        \n",
      "c = Derived()\n",
      "\n",
      "c.fn()\n",
      "print c.get_answer()"
     ],
     "language": "python",
     "metadata": {
      "deletable": true,
      "editable": true
     },
     "outputs": [
      {
       "output_type": "stream",
       "stream": "stdout",
       "text": [
        "this is derived\n",
        "42\n"
       ]
      }
     ],
     "prompt_number": 20
    },
    {
     "cell_type": "code",
     "collapsed": false,
     "input": [
      "class Base(object):\n",
      "    def fn(self):\n",
      "        print \"this is base\"\n",
      "        \n",
      "class Derived(Base):\n",
      "    def fn(self):\n",
      "        super(Derived, self).fn()\n",
      "        print \"and this is derived\"\n",
      "        \n",
      "c = Derived()\n",
      "c.fn()"
     ],
     "language": "python",
     "metadata": {
      "deletable": true,
      "editable": true
     },
     "outputs": [
      {
       "output_type": "stream",
       "stream": "stdout",
       "text": [
        "this is base\n",
        "and this is derived\n"
       ]
      }
     ],
     "prompt_number": 21
    },
    {
     "cell_type": "heading",
     "level": 4,
     "metadata": {
      "deletable": true,
      "editable": true
     },
     "source": [
      "Diamond inheritance problem"
     ]
    },
    {
     "cell_type": "code",
     "collapsed": false,
     "input": [
      "class First(object):\n",
      "    def __init__(self):\n",
      "        print \"first\"\n",
      "\n",
      "class Second(object):\n",
      "    def __init__(self):\n",
      "        print \"second\"\n",
      "\n",
      "class Third(First, Second):\n",
      "    def __init__(self):\n",
      "        super(Third, self).__init__()\n",
      "        print \"that's it\"\n",
      "        \n",
      "t = Third()"
     ],
     "language": "python",
     "metadata": {
      "deletable": true,
      "editable": true
     },
     "outputs": [
      {
       "output_type": "stream",
       "stream": "stdout",
       "text": [
        "first\n",
        "that's it\n"
       ]
      }
     ],
     "prompt_number": 22
    },
    {
     "cell_type": "code",
     "collapsed": false,
     "input": [
      "# method resolution order (mro)\n",
      "\n",
      "Third.mro()"
     ],
     "language": "python",
     "metadata": {
      "deletable": true,
      "editable": true
     },
     "outputs": [
      {
       "metadata": {},
       "output_type": "pyout",
       "prompt_number": 23,
       "text": [
        "[__main__.Third, __main__.First, __main__.Second, object]"
       ]
      }
     ],
     "prompt_number": 23
    },
    {
     "cell_type": "code",
     "collapsed": false,
     "input": [
      "# there is an other stuff to create classes: type\n",
      "# syntax:\n",
      "# type(\"name\", (list_of, base, classes,), {\"members\": \"and values\", \"in_a\": \"dict\"})\n",
      "\n",
      "A = type('A', (object,), {})\n",
      "B = type('B', (object,), {})\n",
      "C = type('C', (object,), {})\n",
      "D = type('D', (object,), {})\n",
      "E = type('E', (object,), {})\n",
      "K1 = type('K1', (A, B, C), {})\n",
      "K2 = type('K2', (D, B, E), {})\n",
      "K3 = type('K3', (D, A), {})\n",
      "Z = type('Z', (K1, K2, K3), {})\n",
      "\n",
      "Z.mro()"
     ],
     "language": "python",
     "metadata": {
      "deletable": true,
      "editable": true
     },
     "outputs": [
      {
       "metadata": {},
       "output_type": "pyout",
       "prompt_number": 24,
       "text": [
        "[__main__.Z,\n",
        " __main__.K1,\n",
        " __main__.K2,\n",
        " __main__.K3,\n",
        " __main__.D,\n",
        " __main__.A,\n",
        " __main__.B,\n",
        " __main__.C,\n",
        " __main__.E,\n",
        " object]"
       ]
      }
     ],
     "prompt_number": 24
    },
    {
     "cell_type": "code",
     "collapsed": false,
     "input": [
      "dir(Z)\n"
     ],
     "language": "python",
     "metadata": {},
     "outputs": [
      {
       "metadata": {},
       "output_type": "pyout",
       "prompt_number": 27,
       "text": [
        "['__class__',\n",
        " '__delattr__',\n",
        " '__dict__',\n",
        " '__doc__',\n",
        " '__format__',\n",
        " '__getattribute__',\n",
        " '__hash__',\n",
        " '__init__',\n",
        " '__module__',\n",
        " '__new__',\n",
        " '__reduce__',\n",
        " '__reduce_ex__',\n",
        " '__repr__',\n",
        " '__setattr__',\n",
        " '__sizeof__',\n",
        " '__str__',\n",
        " '__subclasshook__',\n",
        " '__weakref__']"
       ]
      }
     ],
     "prompt_number": 27
    },
    {
     "cell_type": "markdown",
     "metadata": {
      "collapsed": true,
      "deletable": true,
      "editable": true
     },
     "source": [
      "### More...\n",
      "\n",
      "Let see a more specific sample of counting inheritances!"
     ]
    },
    {
     "cell_type": "code",
     "collapsed": true,
     "input": [
      "class CountInstance(object):\n",
      "    \"\"\"\n",
      "    This is a sample class,\n",
      "    counts the number of instances.\n",
      "    \"\"\"\n",
      "    __instances = []\n",
      "    __instances_number = 0\n",
      "\n",
      "    def __init__(self, name=None):\n",
      "        # self.__instances_number += 1\n",
      "        CountInstance.__instances_number += 1\n",
      "        self.__name = str(name) if name else str(id(self))\n",
      "        self.__instances.append(self.__name)\n",
      "\n",
      "    def __del__(self):\n",
      "        # self.__instances_number -= 1\n",
      "        CountInstance.__instances_number -= 1\n",
      "        self.__instances.remove(self.__name)\n",
      "\n",
      "    def __len__(self):\n",
      "        return self.instances_number()\n",
      "        \n",
      "    def get_name(self):\n",
      "        \"Return the name of this instance.\"\n",
      "        return self.__name\n",
      "\n",
      "    def get_instance_number(self):\n",
      "        \"Return the number of instances (non static).\"\n",
      "        return self.__instances_number\n",
      "\n",
      "    def get_instance_list(self):\n",
      "        \"Return the name list of all instances (non static).\"\n",
      "        return self.__instances\n",
      "\n",
      "    @staticmethod\n",
      "    def instances_number():\n",
      "        \"Return the number of instances.\"\n",
      "        return CountInstance.__instances_number\n",
      "\n",
      "    @staticmethod\n",
      "    def instances_name_list():\n",
      "        \"Return the name list of all instances.\"\n",
      "        return CountInstance.__instances\n",
      "\n",
      "\n",
      "class InheritedSample(CountInstance):\n",
      "    pass"
     ],
     "language": "python",
     "metadata": {
      "deletable": true,
      "editable": true
     },
     "outputs": [],
     "prompt_number": 28
    },
    {
     "cell_type": "code",
     "collapsed": false,
     "input": [
      "a=InheritedSample()\n",
      "b=InheritedSample()\n",
      "\n",
      "print CountInstance.instances_number()\n",
      "\n",
      "c=CountInstance(\"original instance\")\n",
      "\n",
      "print c.get_instance_list()\n",
      "print a.get_instance_list()\n",
      "print len(b)\n",
      "\n",
      "del a\n",
      "\n",
      "print b.get_instance_list()\n",
      "print len(b)\n",
      "\n",
      "del b,c\n",
      "\n",
      "print CountInstance.instances_number(), CountInstance.instances_name_list()"
     ],
     "language": "python",
     "metadata": {
      "deletable": true,
      "editable": true
     },
     "outputs": [
      {
       "output_type": "stream",
       "stream": "stdout",
       "text": [
        "2\n",
        "['140688922674448', '140688922675408', 'original instance']\n",
        "['140688922674448', '140688922675408', 'original instance']\n",
        "3\n",
        "['140688922675408', 'original instance']\n",
        "2\n",
        "0 []\n"
       ]
      }
     ],
     "prompt_number": 29
    },
    {
     "cell_type": "markdown",
     "metadata": {},
     "source": [
      "Do an _\"automated\"_ constructor!"
     ]
    },
    {
     "cell_type": "code",
     "collapsed": true,
     "input": [
      "class A(object):\n",
      "    def __init__(self, a, b, c, d, e, f):\n",
      "        self.__dict__.update({k: v for k, v in locals().items() if k != 'self'})"
     ],
     "language": "python",
     "metadata": {},
     "outputs": [],
     "prompt_number": 30
    },
    {
     "cell_type": "code",
     "collapsed": false,
     "input": [
      "a = A(1, 42, 43, \"abcb\", [2,3,1], \"f\")\n",
      "\n",
      "print a.a, a.b, a.c, a.d, a.e, a.f\n"
     ],
     "language": "python",
     "metadata": {},
     "outputs": [
      {
       "output_type": "stream",
       "stream": "stdout",
       "text": [
        "1 42 43 abcb [2, 3, 1] f\n"
       ]
      }
     ],
     "prompt_number": 31
    },
    {
     "cell_type": "markdown",
     "metadata": {},
     "source": [
      "Comparison operators redefinition"
     ]
    },
    {
     "cell_type": "code",
     "collapsed": false,
     "input": [
      "class myint(int):\n",
      "    def __cmp__(self, a):\n",
      "        return a-self\n",
      "\n",
      "print myint(1) > myint(2)\n",
      "print myint(1) == myint(2), myint(1) == myint(1)\n",
      "print myint(1) < myint(2)\n",
      "\n",
      "myint(4)-10"
     ],
     "language": "python",
     "metadata": {},
     "outputs": [
      {
       "output_type": "stream",
       "stream": "stdout",
       "text": [
        "True\n",
        "False True\n",
        "False\n"
       ]
      },
      {
       "metadata": {},
       "output_type": "pyout",
       "prompt_number": 33,
       "text": [
        "-6"
       ]
      }
     ],
     "prompt_number": 33
    },
    {
     "cell_type": "code",
     "collapsed": false,
     "input": [
      "class mystr(str):\n",
      "    def __eq__(self, a):\n",
      "        if self.isdigit():\n",
      "            return int(self, 0) == a\n",
      "        else:\n",
      "            return super(mystr, self).__eq__(a)\n",
      "        \n",
      "print mystr(\"123\") == 123\n",
      "print mystr(\"hello\") + \" there\"\n",
      "print mystr(\"hello\") == 123\n",
      "print mystr(\"123\") < 1000"
     ],
     "language": "python",
     "metadata": {},
     "outputs": [
      {
       "output_type": "stream",
       "stream": "stdout",
       "text": [
        "True\n",
        "hello there\n",
        "False\n",
        "False\n"
       ]
      }
     ],
     "prompt_number": 34
    }
   ],
   "metadata": {}
  }
 ]
}