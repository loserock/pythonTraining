{
 "cells": [
  {
   "cell_type": "markdown",
   "metadata": {
    "deletable": true,
    "editable": true
   },
   "source": [
    "# Lesson 6\n",
    "\n",
    ">**Info**:\n",
    ">   In IPython/Jupyter shell, every cell can contain multiple lines of Python code.\n",
    ">   IPython cells also can contain formatted text, like this.\n",
    ">   To execute a cell block, press CTRL+Enter!"
   ]
  },
  {
   "cell_type": "markdown",
   "metadata": {
    "deletable": true,
    "editable": true
   },
   "source": [
    "## Classes"
   ]
  },
  {
   "cell_type": "markdown",
   "metadata": {},
   "source": [
    "standard dummy class"
   ]
  },
  {
   "cell_type": "code",
   "execution_count": 5,
   "metadata": {
    "collapsed": false
   },
   "outputs": [
    {
     "name": "stdout",
     "output_type": "stream",
     "text": [
      "The defined class obj:\n",
      "<type 'classobj'> __main__.ClassName\n",
      "One instance of the class:\n",
      "<type 'instance'> <__main__.ClassName instance at 0x03F1C3C8>\n"
     ]
    }
   ],
   "source": [
    "class ClassName:\n",
    "    pass\n",
    "\n",
    "# new instance:\n",
    "ci = ClassName()\n",
    "\n",
    "print \"The defined class obj:\\n\",type(ClassName), ClassName\n",
    "print \"One instance of the class:\\n\",type(ci), ci"
   ]
  },
  {
   "cell_type": "markdown",
   "metadata": {},
   "source": [
    "## Thinking in OOP "
   ]
  },
  {
   "cell_type": "code",
   "execution_count": null,
   "metadata": {
    "collapsed": true
   },
   "outputs": [],
   "source": [
    "class Cup:\n",
    "    def __init__(self, volume):\n",
    "        self.__volume = volume\n",
    "        self.__content = None\n",
    "        self.__used = 0\n",
    "    def fill_with(material, percent=100):\n",
    "        self.__content = material\n",
    "        self.__used = self.__volume * percent / 100.0\n",
    "    def look(self):\n",
    "        return \"The cup is filled with %d ml %s.\"%(self.__used, self.__content)\n",
    "    \n",
    "class Coffee:\n",
    "    def __str__(self):\n",
    "        return \"coffee\"\n",
    "    \n",
    "myCup = Cup(200)\n",
    "yourCup = Cup(250)\n",
    "\n",
    "myCup.fill_with(Coffee, 80)\n",
    "\n",
    "# TODO"
   ]
  },
  {
   "cell_type": "markdown",
   "metadata": {},
   "source": [
    "#### Using pep8 code format is good"
   ]
  },
  {
   "cell_type": "markdown",
   "metadata": {},
   "source": [
    "just the raw code (a class which counts the instances):"
   ]
  },
  {
   "cell_type": "code",
   "execution_count": null,
   "metadata": {
    "collapsed": true,
    "deletable": true,
    "editable": true
   },
   "outputs": [],
   "source": [
    "class C:\n",
    "    __instances=[]\n",
    "    def __init__(self,name=None):\n",
    "        self.__name = str(name) if name else str(id(self))\n",
    "        self.__instances.append(self.__name)\n",
    "    def __del__(self):\n",
    "        self.__instances.remove(self.__name)\n",
    "    def numberOfInstances(self):\n",
    "        return len(self.__instances)\n"
   ]
  },
  {
   "cell_type": "markdown",
   "metadata": {
    "deletable": true,
    "editable": true
   },
   "source": [
    "pep8 formatted version:"
   ]
  },
  {
   "cell_type": "code",
   "execution_count": null,
   "metadata": {
    "collapsed": true,
    "deletable": true,
    "editable": true
   },
   "outputs": [],
   "source": [
    "class SampleClass(object):\n",
    "    \"\"\"\n",
    "    This is a sample class with a private name.\n",
    "    Has access to the names of the other instances.\n",
    "    \"\"\"\n",
    "    __instances = []\n",
    "\n",
    "    def __init__(self, name=None):\n",
    "        self.__name = str(name) if name else str(id(self))\n",
    "        self.__instances.append(self.__name)\n",
    "\n",
    "    def __del__(self):\n",
    "        self.__instances.remove(self.__name)\n",
    "\n",
    "    def instance_number(self):\n",
    "        \"Get the number of instances.\"\n",
    "        return len(self.__instances)"
   ]
  },
  {
   "cell_type": "code",
   "execution_count": null,
   "metadata": {
    "collapsed": true,
    "deletable": true,
    "editable": true
   },
   "outputs": [],
   "source": [
    "#try it!\n",
    "\n"
   ]
  },
  {
   "cell_type": "markdown",
   "metadata": {
    "deletable": true,
    "editable": true
   },
   "source": [
    "### Inheritance"
   ]
  },
  {
   "cell_type": "code",
   "execution_count": 7,
   "metadata": {
    "collapsed": false,
    "deletable": true,
    "editable": true
   },
   "outputs": [
    {
     "name": "stdout",
     "output_type": "stream",
     "text": [
      "this is derived\n",
      "42\n"
     ]
    }
   ],
   "source": [
    "class Base(object):\n",
    "    __answer = 42\n",
    "    def fn(self):\n",
    "        print \"this is base\"\n",
    "    def get_answer(self):\n",
    "        return self.__answer\n",
    "        \n",
    "class Derived(Base):\n",
    "    def fn(self):\n",
    "        print \"this is derived\"\n",
    "        \n",
    "c = Derived()\n",
    "\n",
    "c.fn()\n",
    "print c.get_answer()"
   ]
  },
  {
   "cell_type": "code",
   "execution_count": 8,
   "metadata": {
    "collapsed": false,
    "deletable": true,
    "editable": true
   },
   "outputs": [
    {
     "name": "stdout",
     "output_type": "stream",
     "text": [
      "this is base\n",
      "and this is base\n"
     ]
    }
   ],
   "source": [
    "class Base(object):\n",
    "    def fn(self):\n",
    "        print \"this is base\"\n",
    "        \n",
    "class Derived(Base):\n",
    "    def fn(self):\n",
    "        super(Derived, self).fn()\n",
    "        print \"and this is base\"\n",
    "        \n",
    "c = Derived()\n",
    "c.fn()"
   ]
  },
  {
   "cell_type": "markdown",
   "metadata": {
    "deletable": true,
    "editable": true
   },
   "source": [
    "#### Diamond inheritance problem"
   ]
  },
  {
   "cell_type": "code",
   "execution_count": 2,
   "metadata": {
    "collapsed": false,
    "deletable": true,
    "editable": true
   },
   "outputs": [
    {
     "name": "stdout",
     "output_type": "stream",
     "text": [
      "first\n",
      "that's it\n"
     ]
    }
   ],
   "source": [
    "class First(object):\n",
    "    def __init__(self):\n",
    "        print \"first\"\n",
    "\n",
    "class Second(object):\n",
    "    def __init__(self):\n",
    "        print \"second\"\n",
    "\n",
    "class Third(First, Second):\n",
    "    def __init__(self):\n",
    "        super(Third, self).__init__()\n",
    "        print \"that's it\"\n",
    "        \n",
    "t = Third()"
   ]
  },
  {
   "cell_type": "code",
   "execution_count": null,
   "metadata": {
    "collapsed": false,
    "deletable": true,
    "editable": true
   },
   "outputs": [],
   "source": [
    "# method resolution order (mro)\n",
    "\n",
    "Third.mro()"
   ]
  },
  {
   "cell_type": "code",
   "execution_count": null,
   "metadata": {
    "collapsed": true,
    "deletable": true,
    "editable": true
   },
   "outputs": [],
   "source": [
    "A = Type('A', (object,), {})\n",
    "B = Type('B', (object,), {})\n",
    "C = Type('C', (object,), {})\n",
    "D = Type('D', (object,), {})\n",
    "E = Type('E', (object,), {})\n",
    "K1 = Type('K1', (A, B, C), {})\n",
    "K2 = Type('K2', (D, B, E), {})\n",
    "K3 = Type('K3', (D, A), {})\n",
    "Z = Type('Z', (K1, K2, K3), {})\n",
    "\n",
    "Z.mro()"
   ]
  },
  {
   "cell_type": "markdown",
   "metadata": {
    "collapsed": true,
    "deletable": true,
    "editable": true
   },
   "source": [
    "### More..."
   ]
  },
  {
   "cell_type": "code",
   "execution_count": null,
   "metadata": {
    "collapsed": true,
    "deletable": true,
    "editable": true
   },
   "outputs": [],
   "source": [
    "class ClassSample(object):\n",
    "    \"\"\"\n",
    "    This is a sample class,\n",
    "    counts the number of instances.\n",
    "    \"\"\"\n",
    "    __instances = []\n",
    "    __instances_number = 0\n",
    "\n",
    "    def __init__(self, name=None):\n",
    "        # self.__instances_number += 1\n",
    "        ClassSample.__instances_number += 1\n",
    "        self.__name = str(name) if name else str(id(self))\n",
    "        self.__instances.append(self.__name)\n",
    "\n",
    "    def __del__(self):\n",
    "        # self.__instances_number -= 1\n",
    "        ClassSample.__instances_number -= 1\n",
    "        self.__instances.remove(self.__name)\n",
    "\n",
    "    def __len__(self):\n",
    "        return instances_number()\n",
    "        \n",
    "    def get_name(self):\n",
    "        \"Return the name of this instance.\"\n",
    "        return self.__name\n",
    "\n",
    "    def get_instance_number(self):\n",
    "        \"Return the number of instances (non static).\"\n",
    "        return self.__instances_number\n",
    "\n",
    "    def get_instance_list(self):\n",
    "        \"Return the name list of all instances (non static).\"\n",
    "        return self.__instances\n",
    "\n",
    "    @staticmethod\n",
    "    def instances_number():\n",
    "        \"Return the number of instances.\"\n",
    "        return ClassSample.__instances_number\n",
    "\n",
    "    @staticmethod\n",
    "    def instances_name_list():\n",
    "        \"Return the name list of all instances.\"\n",
    "        return ClassSample.__instances\n",
    "\n",
    "\n",
    "class InheritedSample(ClassSample):\n",
    "    pass"
   ]
  },
  {
   "cell_type": "code",
   "execution_count": null,
   "metadata": {
    "collapsed": true,
    "deletable": true,
    "editable": true
   },
   "outputs": [],
   "source": []
  }
 ],
 "metadata": {
  "kernelspec": {
   "display_name": "Python 2",
   "language": "python",
   "name": "python2"
  },
  "language_info": {
   "codemirror_mode": {
    "name": "ipython",
    "version": 2
   },
   "file_extension": ".py",
   "mimetype": "text/x-python",
   "name": "python",
   "nbconvert_exporter": "python",
   "pygments_lexer": "ipython2",
   "version": "2.7.10"
  }
 },
 "nbformat": 4,
 "nbformat_minor": 2
}
