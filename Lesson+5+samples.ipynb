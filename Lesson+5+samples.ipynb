{
 "metadata": {
  "kernelspec": {
   "display_name": "Python 2",
   "language": "python",
   "name": "python2"
  },
  "language_info": {
   "codemirror_mode": {
    "name": "ipython",
    "version": 2
   },
   "file_extension": ".py",
   "mimetype": "text/x-python",
   "name": "python",
   "nbconvert_exporter": "python",
   "pygments_lexer": "ipython2",
   "version": "2.7.10"
  },
  "name": "",
  "signature": "sha256:0466aae05e6b2ee0190fc2cb42084c6046b9a57d3e0ab49f165774cc054449df"
 },
 "nbformat": 3,
 "nbformat_minor": 0,
 "worksheets": [
  {
   "cells": [
    {
     "cell_type": "heading",
     "level": 1,
     "metadata": {},
     "source": [
      "Lesson 5"
     ]
    },
    {
     "cell_type": "markdown",
     "metadata": {},
     "source": [
      ">**Info**:\n",
      ">   In IPython/Jupyter shell, every cell can contain multiple lines of Python code.\n",
      ">   IPython cells also can contain formatted text, like this.\n",
      ">   To execute a cell block, press CTRL+Enter!"
     ]
    },
    {
     "cell_type": "heading",
     "level": 2,
     "metadata": {},
     "source": [
      "Basic Functions and Lambdas"
     ]
    },
    {
     "cell_type": "code",
     "collapsed": false,
     "input": [
      "def sample_function():\n",
      "    print \"something\"\n",
      "    \n",
      "def sample_with_return():\n",
      "    return 42\n",
      "\n",
      "def return_and_use_params(a):\n",
      "    return a + 42\n",
      "\n",
      "# can do anything between defs, but...\n",
      "print \"do anything...\"\n",
      "sample_function()\n",
      "\n",
      "def more_params_and_returns(a, b):\n",
      "    return a + b, a * b\n",
      "\n",
      "r = sample_with_return()\n",
      "print r\n",
      "\n",
      "print \"or just:\", return_and_use_params(r)\n",
      "\n",
      "r = return_and_use_params(sample_with_return())\n",
      "\n",
      "##############\n",
      "# or or or\n",
      "print \"================\"\n",
      "\n",
      "x = y = 1\n",
      "while max(x, y) < 1000:\n",
      "    x, y = more_params_and_returns(x, y)\n",
      "print x, y\n"
     ],
     "language": "python",
     "metadata": {},
     "outputs": [
      {
       "output_type": "stream",
       "stream": "stdout",
       "text": [
        "do anything...\n",
        "something\n",
        "42\n",
        "or just: 84\n",
        "================\n",
        "371 13530\n"
       ]
      }
     ],
     "prompt_number": 3
    },
    {
     "cell_type": "code",
     "collapsed": false,
     "input": [
      "# more params and default value:\n",
      "\n",
      "def multi_multiplication(a, b, n=1):\n",
      "    while n > 0:\n",
      "        a *= b\n",
      "        n -= 1\n",
      "    return a\n",
      "\n",
      "print multi_multiplication(2, 3)\n",
      "print multi_multiplication(2, 3, 5), \"=\", 2*(3**5)\n",
      "print multi_multiplication(b=2, n=3, a=3)"
     ],
     "language": "python",
     "metadata": {},
     "outputs": [
      {
       "output_type": "stream",
       "stream": "stdout",
       "text": [
        "6\n",
        "486 = 486\n",
        "24\n"
       ]
      }
     ],
     "prompt_number": 6
    },
    {
     "cell_type": "code",
     "collapsed": false,
     "input": [
      "def fn_a(a, *args):\n",
      "    print len(args)\n",
      "    print args\n",
      "    \n",
      "fn_a(1,2,3)"
     ],
     "language": "python",
     "metadata": {},
     "outputs": [
      {
       "output_type": "stream",
       "stream": "stdout",
       "text": [
        "2\n",
        "(2, 3)\n"
       ]
      }
     ],
     "prompt_number": 27
    },
    {
     "cell_type": "code",
     "collapsed": false,
     "input": [
      "# set a variable as a function!\n",
      "\n",
      "f = multi_multiplication\n",
      "print type(f)\n",
      "\n",
      "print f(\"abc|\", 2, 3)"
     ],
     "language": "python",
     "metadata": {},
     "outputs": [
      {
       "output_type": "stream",
       "stream": "stdout",
       "text": [
        "<type 'function'>\n",
        "abc|abc|abc|abc|abc|abc|abc|abc|\n"
       ]
      }
     ],
     "prompt_number": 8
    },
    {
     "cell_type": "code",
     "collapsed": false,
     "input": [
      "# use with map:\n",
      "\n",
      "l = map(return_and_use_params, [1,2,3,4,5])\n",
      "print l\n",
      "\n",
      "# not like this:\n",
      "# l = map(f, [(2,3), (2,10), (\"a\",3), (1,10,5)])\n",
      "\n",
      "# but this:\n",
      "l = map(f, [2, 2], [3, 10])\n",
      "print l, f(2,3), f(2,10)"
     ],
     "language": "python",
     "metadata": {},
     "outputs": [
      {
       "output_type": "stream",
       "stream": "stdout",
       "text": [
        "[43, 44, 45, 46, 47]\n",
        "[6, 20] 6 20\n"
       ]
      }
     ],
     "prompt_number": 11
    },
    {
     "cell_type": "markdown",
     "metadata": {},
     "source": [
      "### Function namespace:\n",
      "using `global` keyword (usually not suggested)"
     ]
    },
    {
     "cell_type": "code",
     "collapsed": false,
     "input": [
      "def function_name(param1, param2, param3 = 0):\n",
      "    global global_var\n",
      "    if param3:\n",
      "        return param1 * param2\n",
      "    return global_var * param1, global_var * param2\n",
      "\n",
      "# execution examples:\n",
      "\n",
      "global_var = 42\n",
      "a, b = function_name(3, 4)\n",
      "\n",
      "print function_name(2, 6, True)\n",
      "print \"a: {}, b: {}\".format(a, b)\n",
      "\n",
      "print \"param1\" in locals(), \"param1\" in globals()\n",
      "\n",
      "# try with param names and different order:\n",
      "\n",
      "a, b = function_name(3, 4, param3 = False)\n",
      "print \"a: {}, b: {}\".format(a, b)\n",
      "\n",
      "# or use mixed named params and values ?\n"
     ],
     "language": "python",
     "metadata": {},
     "outputs": [
      {
       "output_type": "stream",
       "stream": "stdout",
       "text": [
        "12\n",
        "a: 126, b: 168\n",
        "False False\n",
        "a: 126, b: 168\n"
       ]
      }
     ],
     "prompt_number": 15
    },
    {
     "cell_type": "markdown",
     "metadata": {},
     "source": [
      "#### change the input params"
     ]
    },
    {
     "cell_type": "code",
     "collapsed": false,
     "input": [
      "def set_to_something(input, to):\n",
      "    input = to        # just note: input is a built in function name too !!!\n",
      "    \n",
      "a = 1\n",
      "set_to_something(a, 10)\n",
      "print a"
     ],
     "language": "python",
     "metadata": {},
     "outputs": [
      {
       "output_type": "stream",
       "stream": "stdout",
       "text": [
        "1\n"
       ]
      }
     ],
     "prompt_number": 16
    },
    {
     "cell_type": "code",
     "collapsed": false,
     "input": [
      "b = [1, 2, 3]\n",
      "set_to_something(a, [3,4])\n",
      "print b"
     ],
     "language": "python",
     "metadata": {},
     "outputs": [
      {
       "output_type": "stream",
       "stream": "stdout",
       "text": [
        "[1, 2, 3]\n"
       ]
      }
     ],
     "prompt_number": 17
    },
    {
     "cell_type": "code",
     "collapsed": false,
     "input": [
      "def add_something_to(input, add):\n",
      "    input += add\n",
      "\n",
      "a = 1\n",
      "add_something_to(a, 2)\n",
      "print a\n",
      "\n",
      "b = [1,2,3]\n",
      "add_something_to(b, (2,))\n",
      "print b\n",
      "\n"
     ],
     "language": "python",
     "metadata": {},
     "outputs": [
      {
       "output_type": "stream",
       "stream": "stdout",
       "text": [
        "1\n",
        "[1, 2, 3, 2]\n"
       ]
      }
     ],
     "prompt_number": 18
    },
    {
     "cell_type": "markdown",
     "metadata": {},
     "source": [
      "### Lambda function"
     ]
    },
    {
     "cell_type": "code",
     "collapsed": false,
     "input": [
      "f = lambda x: x+1\n",
      "f2 = lambda a, b, c : (a + b + c) / 3\n",
      "f3 = lambda l: sum(l) / len(l)\n",
      "\n",
      "print f(4), f(100), f(f(f(0)))\n",
      "print f2(1,10,100)\n",
      "print f3([1,2,3,4,5]), f3(range(10,101))\n",
      "\n",
      "\n",
      "# or use inline:\n",
      "\n",
      "l = range(10)\n",
      "l_mul = map( lambda x: x*x, l )\n",
      "\n",
      "print l_mul"
     ],
     "language": "python",
     "metadata": {},
     "outputs": [
      {
       "output_type": "stream",
       "stream": "stdout",
       "text": [
        "5 101 3\n",
        "37\n",
        "3 55\n",
        "[0, 1, 4, 9, 16, 25, 36, 49, 64, 81]\n"
       ]
      }
     ],
     "prompt_number": 19
    },
    {
     "cell_type": "code",
     "collapsed": false,
     "input": [
      "# or use in function:\n",
      "\n",
      "def do_something(a):\n",
      "    l = []\n",
      "    for i in xrange(5):\n",
      "        a *= a\n",
      "        l.append(a)\n",
      "    # lambda uses the current scope!\n",
      "    return map(lambda i: i - l[2], l)\n",
      "\n",
      "print do_something(2)"
     ],
     "language": "python",
     "metadata": {},
     "outputs": [
      {
       "output_type": "stream",
       "stream": "stdout",
       "text": [
        "[-252, -240, 0, 65280, 4294967040]\n"
       ]
      }
     ],
     "prompt_number": 5
    },
    {
     "cell_type": "code",
     "collapsed": false,
     "input": [
      "# be aware!\n",
      "\n",
      "a, b = 1, 2\n",
      "l = lambda a=b: a+b\n",
      "print l(5)\n",
      "print l()\n",
      "print a,b"
     ],
     "language": "python",
     "metadata": {},
     "outputs": [
      {
       "output_type": "stream",
       "stream": "stdout",
       "text": [
        "7\n",
        "4\n",
        "1 2\n"
       ]
      }
     ],
     "prompt_number": 9
    },
    {
     "cell_type": "markdown",
     "metadata": {},
     "source": [
      "### Compare lambda function with \"normal\" function"
     ]
    },
    {
     "cell_type": "code",
     "collapsed": false,
     "input": [
      "def fn(a):\n",
      "    return a**a\n",
      "\n",
      "l = lambda a: a**a\n",
      "\n",
      "print fn, l\n",
      "\n",
      "print type(fn), type(l)\n",
      "\n",
      "print repr(fn.func_code.co_code),'\\n', repr(l.func_code.co_code)"
     ],
     "language": "python",
     "metadata": {},
     "outputs": [
      {
       "output_type": "stream",
       "stream": "stdout",
       "text": [
        "<function fn at 0x7f25bd7c68c0> <function <lambda> at 0x7f25bd7c65f0>\n",
        "<type 'function'> <type 'function'>\n",
        "'|\\x00\\x00|\\x00\\x00\\x13S' \n",
        "'|\\x00\\x00|\\x00\\x00\\x13S'\n"
       ]
      }
     ],
     "prompt_number": 11
    },
    {
     "cell_type": "code",
     "collapsed": false,
     "input": [
      "l2 = lambda a, b: a**b\n",
      "l3 = lambda a, b: (a+b)**2\n",
      "\n",
      "print repr(fn.func_code.co_code),'\\n', repr(l.func_code.co_code),'\\n', \\\n",
      "      repr(l2.func_code.co_code),'\\n', repr(l3.func_code.co_code)"
     ],
     "language": "python",
     "metadata": {},
     "outputs": [
      {
       "output_type": "stream",
       "stream": "stdout",
       "text": [
        "'|\\x00\\x00|\\x00\\x00\\x13S' \n",
        "'|\\x00\\x00|\\x00\\x00\\x13S' \n",
        "'|\\x00\\x00|\\x01\\x00\\x13S' \n",
        "'|\\x00\\x00|\\x01\\x00\\x17d\\x01\\x00\\x13S'\n"
       ]
      }
     ],
     "prompt_number": 12
    },
    {
     "cell_type": "code",
     "collapsed": true,
     "input": [
      "[p.func_code for p in (fn, l, l2, l3)]"
     ],
     "language": "python",
     "metadata": {},
     "outputs": [
      {
       "metadata": {},
       "output_type": "pyout",
       "prompt_number": 13,
       "text": [
        "[<code object fn at 0x7f25be0078b0, file \"<ipython-input-11-6b042103e3c2>\", line 1>,\n",
        " <code object <lambda> at 0x7f25c0a66630, file \"<ipython-input-11-6b042103e3c2>\", line 4>,\n",
        " <code object <lambda> at 0x7f25be007cb0, file \"<ipython-input-12-3ddb10a3d7ae>\", line 1>,\n",
        " <code object <lambda> at 0x7f25be0079b0, file \"<ipython-input-12-3ddb10a3d7ae>\", line 2>]"
       ]
      }
     ],
     "prompt_number": 13
    },
    {
     "cell_type": "markdown",
     "metadata": {},
     "source": [
      "## Generator function\n"
     ]
    },
    {
     "cell_type": "code",
     "collapsed": false,
     "input": [
      "def my_series(f, t):\n",
      "    print \"my series started!\"\n",
      "    while f < t:\n",
      "        yield f\n",
      "        f += 1\n",
      "    print \"game over\"\n",
      "    # using the return is optionally\n",
      "    \n",
      "#print type(my_series)\n",
      "\n",
      "stuff = my_series(0, 10)\n",
      "#print type(stuff), stuff\n",
      "\n",
      "a = stuff.next()\n",
      "print a\n",
      "\n",
      "print next(stuff)\n",
      "\n",
      "for a in stuff:\n",
      "    print a,\n",
      "    \n",
      "print stuff.next()\n"
     ],
     "language": "python",
     "metadata": {},
     "outputs": [
      {
       "output_type": "stream",
       "stream": "stdout",
       "text": [
        "my series started!\n",
        "0\n",
        "1\n",
        "2 3 4 5 6 7 8 9 game over\n"
       ]
      },
      {
       "ename": "StopIteration",
       "evalue": "",
       "output_type": "pyerr",
       "traceback": [
        "\u001b[0;31m---------------------------------------------------------------------------\u001b[0m\n\u001b[0;31mStopIteration\u001b[0m                             Traceback (most recent call last)",
        "\u001b[0;32m<ipython-input-21-c4e183d2a967>\u001b[0m in \u001b[0;36m<module>\u001b[0;34m()\u001b[0m\n\u001b[1;32m     20\u001b[0m     \u001b[0;32mprint\u001b[0m \u001b[0ma\u001b[0m\u001b[0;34m,\u001b[0m\u001b[0;34m\u001b[0m\u001b[0m\n\u001b[1;32m     21\u001b[0m \u001b[0;34m\u001b[0m\u001b[0m\n\u001b[0;32m---> 22\u001b[0;31m \u001b[0;32mprint\u001b[0m \u001b[0mstuff\u001b[0m\u001b[0;34m.\u001b[0m\u001b[0mnext\u001b[0m\u001b[0;34m(\u001b[0m\u001b[0;34m)\u001b[0m\u001b[0;34m\u001b[0m\u001b[0m\n\u001b[0m",
        "\u001b[0;31mStopIteration\u001b[0m: "
       ]
      }
     ],
     "prompt_number": 21
    },
    {
     "cell_type": "code",
     "collapsed": false,
     "input": [
      "stuff = my_series(5, 10)\n",
      "print next(stuff)\n",
      "stuff.close()\n",
      "for a in stuff:\n",
      "    print a,\n"
     ],
     "language": "python",
     "metadata": {},
     "outputs": []
    },
    {
     "cell_type": "code",
     "collapsed": false,
     "input": [
      "def fibon(n):\n",
      "    a = b = 1\n",
      "    for i in range(n):\n",
      "        yield a\n",
      "        a, b = b, a + b\n",
      "\n",
      "g_instance = fibon(100)\n",
      "for i in g_instance:\n",
      "    if i > 100:\n",
      "        g_instance.close()\n",
      "    print i,\n",
      "else:\n",
      "    print \"\\nLast value is\",i"
     ],
     "language": "python",
     "metadata": {},
     "outputs": [
      {
       "output_type": "stream",
       "stream": "stdout",
       "text": [
        "1 1 2 3 5 8 13 21 34 55 89 144 \n",
        "Last value is 144\n"
       ]
      }
     ],
     "prompt_number": 26
    },
    {
     "cell_type": "code",
     "collapsed": false,
     "input": [
      "# force to run all:\n",
      "\n",
      "l = list(my_series(10,13))\n",
      "\n",
      "print l"
     ],
     "language": "python",
     "metadata": {},
     "outputs": [
      {
       "output_type": "stream",
       "stream": "stdout",
       "text": [
        "my series started!\n",
        "game over\n",
        "[10, 11, 12]\n"
       ]
      }
     ],
     "prompt_number": 27
    },
    {
     "cell_type": "code",
     "collapsed": false,
     "input": [
      "# force to run all:\n",
      "\n",
      "t = tuple(my_series(10,13))\n",
      "\n",
      "print t"
     ],
     "language": "python",
     "metadata": {},
     "outputs": [
      {
       "output_type": "stream",
       "stream": "stdout",
       "text": [
        "my series started!\n",
        "game over\n",
        "(10, 11, 12)\n"
       ]
      }
     ],
     "prompt_number": 28
    },
    {
     "cell_type": "code",
     "collapsed": false,
     "input": [
      "# my an iterator from generator ?\n",
      "\n",
      "\n",
      "it = iter(my_series(10,13))\n",
      "\n",
      "print it\n",
      "# this not works... :("
     ],
     "language": "python",
     "metadata": {},
     "outputs": [
      {
       "output_type": "stream",
       "stream": "stdout",
       "text": [
        "<generator object my_series at 0x7f25bcae7870>\n"
       ]
      }
     ],
     "prompt_number": 32
    },
    {
     "cell_type": "markdown",
     "metadata": {},
     "source": [
      "## Generator expressions"
     ]
    },
    {
     "cell_type": "code",
     "collapsed": false,
     "input": [
      "g = (x*x for x in xrange(1000000))\n",
      "\n",
      "print g.next()\n",
      "print g.next()"
     ],
     "language": "python",
     "metadata": {},
     "outputs": [
      {
       "output_type": "stream",
       "stream": "stdout",
       "text": [
        "0\n",
        "1\n"
       ]
      }
     ],
     "prompt_number": 33
    },
    {
     "cell_type": "code",
     "collapsed": false,
     "input": [
      "# seek first, inline:\n",
      "\n",
      "result = (x for x in xrange(1,100000) if x*x % 41 == 0 and x*x % 137 == 0).next()\n",
      "print result"
     ],
     "language": "python",
     "metadata": {},
     "outputs": [
      {
       "output_type": "stream",
       "stream": "stdout",
       "text": [
        "5617\n"
       ]
      }
     ],
     "prompt_number": 34
    },
    {
     "cell_type": "markdown",
     "metadata": {},
     "source": [
      "### OPTIONAL: Coroutine example"
     ]
    },
    {
     "cell_type": "code",
     "collapsed": false,
     "input": [
      "# something like 'cat file | tail -f | ...'\n",
      "\n",
      "import time\n",
      "\n",
      "def follow(thefile, target):\n",
      "    thefile.seek(0,2)      # Go to the end of the file\n",
      "    while True:\n",
      "         line = thefile.readline()\n",
      "         if not line:\n",
      "             time.sleep(0.1)    # Sleep briefly\n",
      "             continue\n",
      "         target.send(line)\n",
      "\n",
      "# ...\n"
     ],
     "language": "python",
     "metadata": {},
     "outputs": []
    },
    {
     "cell_type": "markdown",
     "metadata": {},
     "source": [
      "## Create function with function (?)"
     ]
    },
    {
     "cell_type": "code",
     "collapsed": false,
     "input": [
      "adders = [0,1,2,3]\n",
      "for i in [0,1,2,3]:\n",
      "    adders[i] = (lambda b: lambda a: b + a)(i)\n",
      "\n",
      "print adders[3](5)\n",
      "#print adders[2](3)\n",
      "\n",
      "#print adders"
     ],
     "language": "python",
     "metadata": {},
     "outputs": [
      {
       "output_type": "stream",
       "stream": "stdout",
       "text": [
        "8\n"
       ]
      }
     ],
     "prompt_number": 39
    }
   ],
   "metadata": {}
  }
 ]
}