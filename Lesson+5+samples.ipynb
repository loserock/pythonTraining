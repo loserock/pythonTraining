{
 "cells": [
  {
   "cell_type": "markdown",
   "metadata": {},
   "source": [
    "# Lesson 4"
   ]
  },
  {
   "cell_type": "markdown",
   "metadata": {},
   "source": [
    ">**Info**:\n",
    ">   In IPython/Jupyter shell, every cell can contain multiple lines of Python code.\n",
    ">   IPython cells also can contain formatted text, like this.\n",
    ">   To execute a cell block, press CTRL+Enter!"
   ]
  },
  {
   "cell_type": "markdown",
   "metadata": {},
   "source": [
    "## Basic Functions and Lambdas"
   ]
  },
  {
   "cell_type": "code",
   "execution_count": 9,
   "metadata": {
    "collapsed": false
   },
   "outputs": [
    {
     "name": "stdout",
     "output_type": "stream",
     "text": [
      "<function fn at 0x03F5AA30> <function <lambda> at 0x03F5A9B0>\n",
      "<type 'function'> <type 'function'>\n",
      "'|\\x00\\x00|\\x00\\x00\\x13S' \n",
      "'|\\x00\\x00|\\x00\\x00\\x13S'\n"
     ]
    }
   ],
   "source": [
    "def fn(a):\n",
    "    return a**a\n",
    "\n",
    "l = lambda a: a**a\n",
    "\n",
    "print fn, l\n",
    "\n",
    "print type(fn), type(l)\n",
    "\n",
    "print repr(fn.func_code.co_code),'\\n', repr(l.func_code.co_code)"
   ]
  },
  {
   "cell_type": "code",
   "execution_count": 8,
   "metadata": {
    "collapsed": false
   },
   "outputs": [
    {
     "name": "stdout",
     "output_type": "stream",
     "text": [
      "'|\\x00\\x00|\\x00\\x00\\x13S' \n",
      "'|\\x00\\x00|\\x00\\x00\\x13S' \n",
      "'|\\x00\\x00|\\x01\\x00\\x13S' \n",
      "'|\\x00\\x00|\\x01\\x00\\x17d\\x01\\x00\\x13S'\n"
     ]
    }
   ],
   "source": [
    "l2 = lambda a, b: a**b\n",
    "l3 = lambda a, b: (a+b)**2\n",
    "\n",
    "print repr(fn.func_code.co_code),'\\n', repr(l.func_code.co_code),'\\n', \\\n",
    "      repr(l2.func_code.co_code),'\\n', repr(l3.func_code.co_code)"
   ]
  },
  {
   "cell_type": "code",
   "execution_count": null,
   "metadata": {
    "collapsed": true
   },
   "outputs": [],
   "source": [
    "[p.func_code for p in (fn, l, l2, l3)]"
   ]
  }
 ],
 "metadata": {
  "kernelspec": {
   "display_name": "Python 2",
   "language": "python",
   "name": "python2"
  },
  "language_info": {
   "codemirror_mode": {
    "name": "ipython",
    "version": 2
   },
   "file_extension": ".py",
   "mimetype": "text/x-python",
   "name": "python",
   "nbconvert_exporter": "python",
   "pygments_lexer": "ipython2",
   "version": "2.7.10"
  }
 },
 "nbformat": 4,
 "nbformat_minor": 2
}
