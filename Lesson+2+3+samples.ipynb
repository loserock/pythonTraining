{
 "metadata": {
  "kernelspec": {
   "display_name": "Python 2",
   "language": "python",
   "name": "python2"
  },
  "language_info": {
   "codemirror_mode": {
    "name": "ipython",
    "version": 2
   },
   "file_extension": ".py",
   "mimetype": "text/x-python",
   "name": "python",
   "nbconvert_exporter": "python",
   "pygments_lexer": "ipython2",
   "version": "2.7.10"
  },
  "name": "",
  "signature": "sha256:0f23942e1cd19ba46a9dec28e564818a43c125d09a27c03b12fe22375ede574f"
 },
 "nbformat": 3,
 "nbformat_minor": 0,
 "worksheets": [
  {
   "cells": [
    {
     "cell_type": "heading",
     "level": 1,
     "metadata": {
      "deletable": true,
      "editable": true
     },
     "source": [
      "Lesson 2-3"
     ]
    },
    {
     "cell_type": "markdown",
     "metadata": {
      "deletable": true,
      "editable": true
     },
     "source": [
      ">**Info**:\n",
      ">   In IPython/Jupyter shell, every cell can contain multiple lines of Python code.\n",
      ">   IPython cells also can contain formatted text, like this.\n",
      ">   To execute a cell block, press CTRL+Enter!"
     ]
    },
    {
     "cell_type": "markdown",
     "metadata": {
      "collapsed": true,
      "deletable": true,
      "editable": true
     },
     "source": [
      "----\n",
      "\n",
      "Warm up overview from Lesson 1 code samples."
     ]
    },
    {
     "cell_type": "heading",
     "level": 2,
     "metadata": {
      "deletable": true,
      "editable": true
     },
     "source": [
      "General things"
     ]
    },
    {
     "cell_type": "heading",
     "level": 3,
     "metadata": {},
     "source": [
      "Basic types and conversions"
     ]
    },
    {
     "cell_type": "code",
     "collapsed": false,
     "input": [
      "i = int(123)\n",
      "f = float(3.14)\n",
      "l = 123**10\n",
      "c = chr(97)\n",
      "l, c\n",
      "# print l, type(l)"
     ],
     "language": "python",
     "metadata": {
      "deletable": true,
      "editable": true
     },
     "outputs": []
    },
    {
     "cell_type": "code",
     "collapsed": false,
     "input": [
      "# strings\n",
      "s=\"abc\"\n",
      "# s[1]=\"d\"\n",
      "# print s\n",
      "s=bytearray(\"abc\")\n",
      "s[1:] = \"dd\"\n",
      "print s"
     ],
     "language": "python",
     "metadata": {},
     "outputs": []
    },
    {
     "cell_type": "markdown",
     "metadata": {
      "deletable": true,
      "editable": true
     },
     "source": [
      "complex numbers in Python:"
     ]
    },
    {
     "cell_type": "code",
     "collapsed": false,
     "input": [
      "c = 1 + 1j\n",
      "print type(c)\n",
      "print c, sqrt(c)"
     ],
     "language": "python",
     "metadata": {
      "deletable": true,
      "editable": true
     },
     "outputs": []
    },
    {
     "cell_type": "code",
     "collapsed": false,
     "input": [
      "import cmath\n",
      "\n",
      "print cmath.sqrt(c), cmath.sqrt(-1)\n",
      "print cmath.phase(c)"
     ],
     "language": "python",
     "metadata": {
      "deletable": true,
      "editable": true
     },
     "outputs": []
    },
    {
     "cell_type": "code",
     "collapsed": false,
     "input": [
      "from cmath import sqrt\n",
      "\n",
      "print sqrt(-1)\n",
      "\n",
      "#from math import sqrt\n",
      "\n",
      "#print sqrt(-1)"
     ],
     "language": "python",
     "metadata": {
      "deletable": true,
      "editable": true
     },
     "outputs": []
    },
    {
     "cell_type": "markdown",
     "metadata": {
      "deletable": true,
      "editable": true
     },
     "source": [
      "Check the dangers of multiple `from ... import *` syntax!"
     ]
    },
    {
     "cell_type": "code",
     "collapsed": false,
     "input": [
      "from math import *\n",
      "\n",
      "print pi, cos(pi), acos(1)\n",
      "\n",
      "#print sqrt(-1)"
     ],
     "language": "python",
     "metadata": {
      "deletable": true,
      "editable": true
     },
     "outputs": []
    },
    {
     "cell_type": "markdown",
     "metadata": {
      "deletable": true,
      "editable": true
     },
     "source": [
      "Some number and string conversion sample:"
     ]
    },
    {
     "cell_type": "code",
     "collapsed": false,
     "input": [
      "i = 1\n",
      "i, str(i)"
     ],
     "language": "python",
     "metadata": {
      "deletable": true,
      "editable": true
     },
     "outputs": []
    },
    {
     "cell_type": "code",
     "collapsed": false,
     "input": [
      "# what can we do with an object?\n",
      "s = str(i)\n",
      "dir(s)"
     ],
     "language": "python",
     "metadata": {
      "deletable": true,
      "editable": true
     },
     "outputs": []
    },
    {
     "cell_type": "code",
     "collapsed": true,
     "input": [
      "s.isdigit(), s.isupper(), s.isalnum(), s.isspace()"
     ],
     "language": "python",
     "metadata": {
      "deletable": true,
      "editable": true
     },
     "outputs": []
    },
    {
     "cell_type": "markdown",
     "metadata": {
      "deletable": true,
      "editable": true
     },
     "source": [
      "Some extra conditional expression (for tuples and simple collections):"
     ]
    },
    {
     "cell_type": "code",
     "collapsed": false,
     "input": [
      "cond = s.isdigit(), s.isupper(), s.isalnum(), s.isspace()\n",
      "any( cond )"
     ],
     "language": "python",
     "metadata": {
      "deletable": true,
      "editable": true
     },
     "outputs": []
    },
    {
     "cell_type": "code",
     "collapsed": false,
     "input": [
      "all( cond )"
     ],
     "language": "python",
     "metadata": {
      "deletable": true,
      "editable": true
     },
     "outputs": []
    },
    {
     "cell_type": "markdown",
     "metadata": {
      "deletable": true,
      "editable": true
     },
     "source": [
      "Fast variable swapping with tuple unpacking:"
     ]
    },
    {
     "cell_type": "code",
     "collapsed": true,
     "input": [
      "a = 1\n",
      "b = 2\n",
      "# swap with tuple\n",
      "b, a = a, b\n",
      "print a, b"
     ],
     "language": "python",
     "metadata": {
      "deletable": true,
      "editable": true
     },
     "outputs": []
    },
    {
     "cell_type": "code",
     "collapsed": false,
     "input": [
      "(a, b) = (b, a)\n",
      "print a,b"
     ],
     "language": "python",
     "metadata": {
      "deletable": true,
      "editable": true
     },
     "outputs": []
    },
    {
     "cell_type": "markdown",
     "metadata": {},
     "source": [
      "other stuff:"
     ]
    },
    {
     "cell_type": "code",
     "collapsed": false,
     "input": [
      "a = b = c = 2"
     ],
     "language": "python",
     "metadata": {},
     "outputs": []
    },
    {
     "cell_type": "code",
     "collapsed": false,
     "input": [
      "t = (1, 2, 3)\n",
      "a, b, c = t"
     ],
     "language": "python",
     "metadata": {},
     "outputs": []
    },
    {
     "cell_type": "markdown",
     "metadata": {},
     "source": [
      "back to conditions..."
     ]
    },
    {
     "cell_type": "code",
     "collapsed": false,
     "input": [
      "if s.isdigit():\n",
      "    print \"This is a number!\""
     ],
     "language": "python",
     "metadata": {
      "deletable": true,
      "editable": true
     },
     "outputs": []
    },
    {
     "cell_type": "code",
     "collapsed": false,
     "input": [
      "s = int(s)\n",
      "if s.isdigit():\n",
      "    print \"This is a number!\""
     ],
     "language": "python",
     "metadata": {
      "deletable": true,
      "editable": true
     },
     "outputs": []
    },
    {
     "cell_type": "code",
     "collapsed": false,
     "input": [
      "if str(s).isdigit():\n",
      "    print \"Number!\"\n",
      "    print \"In hexadecimal:\", hex(s)\n",
      "else:\n",
      "    print \"Not a number!\"\n",
      "    print \"The length:\", len(s)\n",
      "    \n",
      "# better print format? not just space after ','?"
     ],
     "language": "python",
     "metadata": {
      "deletable": true,
      "editable": true
     },
     "outputs": []
    },
    {
     "cell_type": "markdown",
     "metadata": {
      "deletable": true,
      "editable": true
     },
     "source": [
      "One liner if-else statement:"
     ]
    },
    {
     "cell_type": "code",
     "collapsed": false,
     "input": [],
     "language": "python",
     "metadata": {},
     "outputs": []
    },
    {
     "cell_type": "code",
     "collapsed": false,
     "input": [
      "s = \"123\"\n",
      "print \"hex: %s\"%hex(int(s)) if s.isdigit() else \"length: %d\"%len(s)"
     ],
     "language": "python",
     "metadata": {
      "deletable": true,
      "editable": true
     },
     "outputs": []
    },
    {
     "cell_type": "code",
     "collapsed": false,
     "input": [
      "int(\"0x7b\", 16)"
     ],
     "language": "python",
     "metadata": {
      "deletable": true,
      "editable": true
     },
     "outputs": []
    },
    {
     "cell_type": "markdown",
     "metadata": {
      "deletable": true,
      "editable": true
     },
     "source": [
      "Builtin help:"
     ]
    },
    {
     "cell_type": "code",
     "collapsed": false,
     "input": [
      "help(int)"
     ],
     "language": "python",
     "metadata": {
      "deletable": true,
      "editable": true
     },
     "outputs": []
    },
    {
     "cell_type": "code",
     "collapsed": false,
     "input": [],
     "language": "python",
     "metadata": {
      "deletable": true,
      "editable": true
     },
     "outputs": []
    },
    {
     "cell_type": "markdown",
     "metadata": {},
     "source": [
      "coding structures"
     ]
    },
    {
     "cell_type": "code",
     "collapsed": false,
     "input": [
      "i = int(raw_input(\"i: \"))\n",
      "\n",
      "if i < 0:\n",
      "    print \"i kisebb mint nulla\"\n",
      "elif i > 0:\n",
      "    print \"i nagyobb mint nulla\"\n",
      "else:\n",
      "  print \"i egyenlo nulla\"  # whitespace?"
     ],
     "language": "python",
     "metadata": {},
     "outputs": []
    },
    {
     "cell_type": "code",
     "collapsed": false,
     "input": [
      "x = input()         # [1, 2, 3]\n",
      "\n",
      "while len(x) != 0:\n",
      "    print x.pop()\n",
      "else:\n",
      "    print \"list x is empty\""
     ],
     "language": "python",
     "metadata": {},
     "outputs": []
    },
    {
     "cell_type": "code",
     "collapsed": false,
     "input": [
      "napok = [\"Hetfo\", \"Kedd\", \"Szerda\", \"Csutortok\", \"Pentek\", \"Szombat\", \"Vasarnap\"]\n",
      "\n",
      "for nap in napok:\n",
      "    print nap\n",
      "\n",
      "\n",
      "# with enumerate ?"
     ],
     "language": "python",
     "metadata": {},
     "outputs": []
    },
    {
     "cell_type": "code",
     "collapsed": false,
     "input": [
      "for nap in napok:\n",
      "    print nap\n",
      "    if nap == \"Csutortok\":\n",
      "        for betu in nap:\n",
      "            print betu, \",\",\n",
      "\n",
      "\n",
      "\n",
      "# any bug ?\n",
      "# print nap ?"
     ],
     "language": "python",
     "metadata": {},
     "outputs": []
    },
    {
     "cell_type": "code",
     "collapsed": false,
     "input": [
      "for nap in napok:\n",
      "    if nap == \"Csutortok\":\n",
      "        nap = \"Cs\u00fctortok\"    # does it work ?   check it with dict!\n",
      "print napok"
     ],
     "language": "python",
     "metadata": {},
     "outputs": [
      {
       "output_type": "stream",
       "stream": "stdout",
       "text": [
        "['Hetfo', 'Kedd', 'Szerda', 'Csutortok', 'Pentek', 'Szombat', 'Vasarnap']\n"
       ]
      }
     ],
     "prompt_number": 15
    },
    {
     "cell_type": "code",
     "collapsed": false,
     "input": [
      "# other stuff:\n",
      "cs = list(napok[3])\n",
      "\", \".join(cs)"
     ],
     "language": "python",
     "metadata": {},
     "outputs": []
    },
    {
     "cell_type": "code",
     "collapsed": false,
     "input": [
      "# cycle with more variables ?\n",
      "\n",
      "napok2 = [[\"Hetfo\", 1], [\"Kedd\", 2], [\"Szerda\", 3], [\"Csutortok\", 4], [\"Pentek\", 5], [\"Szombat\", 6], [\"Vasarnap\", 7]]\n",
      "\n",
      "for i in napok2:  # how?\n",
      "    pass\n",
      "    # TODO print with string formatting !\n",
      "\n"
     ],
     "language": "python",
     "metadata": {},
     "outputs": []
    },
    {
     "cell_type": "markdown",
     "metadata": {},
     "source": [
      "more string formatting samples..."
     ]
    },
    {
     "cell_type": "code",
     "collapsed": false,
     "input": [],
     "language": "python",
     "metadata": {},
     "outputs": []
    },
    {
     "cell_type": "markdown",
     "metadata": {},
     "source": [
      "dictionary samples"
     ]
    },
    {
     "cell_type": "code",
     "collapsed": true,
     "input": [
      "napok = {\"Hetfo\": 1, \"Kedd\": 2, \"Szerda\": 3, \"Csutortok\": 4, \"Pentek\": 5, \"Szombat\": 6, \"Vasarnap\": 7}\n",
      "\n",
      "for nap in napok:\n",
      "    print napok[nap]\n",
      "\n",
      "\n",
      "# modify ?\n",
      "# copy ?"
     ],
     "language": "python",
     "metadata": {},
     "outputs": []
    },
    {
     "cell_type": "markdown",
     "metadata": {},
     "source": [
      "set samples"
     ]
    },
    {
     "cell_type": "code",
     "collapsed": true,
     "input": [],
     "language": "python",
     "metadata": {},
     "outputs": []
    },
    {
     "cell_type": "markdown",
     "metadata": {},
     "source": [
      "#### Task :)\n",
      "\n",
      "Decode the `this` module's string!\n",
      "\n",
      "_Hint:_ Use `import this` and `dir(this)`!"
     ]
    },
    {
     "cell_type": "code",
     "collapsed": false,
     "input": [],
     "language": "python",
     "metadata": {},
     "outputs": []
    }
   ],
   "metadata": {}
  }
 ]
}