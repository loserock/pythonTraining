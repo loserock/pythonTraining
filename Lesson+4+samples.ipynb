{
 "cells": [
  {
   "cell_type": "markdown",
   "metadata": {},
   "source": [
    "# Lesson 4"
   ]
  },
  {
   "cell_type": "markdown",
   "metadata": {},
   "source": [
    ">**Info**:\n",
    ">   In IPython/Jupyter shell, every cell can contain multiple lines of Python code.\n",
    ">   IPython cells also can contain formatted text, like this.\n",
    ">   To execute a cell block, press CTRL+Enter!"
   ]
  },
  {
   "cell_type": "markdown",
   "metadata": {},
   "source": [
    "## Cycles and collections"
   ]
  },
  {
   "cell_type": "code",
   "execution_count": 1,
   "metadata": {
    "collapsed": false
   },
   "outputs": [
    {
     "name": "stdout",
     "output_type": "stream",
     "text": [
      "[1,2,3]\n",
      "3\n",
      "2\n",
      "1\n",
      "list x is empty\n",
      "...back to the code\n"
     ]
    }
   ],
   "source": [
    "x = input()         # [1, 2, 3]\n",
    "\n",
    "while len(x) != 0:  # can simplify !\n",
    "    print x.pop()\n",
    "else:\n",
    "    print \"list x is empty\"\n",
    "print \"...back to the code\"\n",
    "\n",
    "# what if... break? (exception?)"
   ]
  },
  {
   "cell_type": "code",
   "execution_count": 13,
   "metadata": {
    "collapsed": false
   },
   "outputs": [
    {
     "name": "stdout",
     "output_type": "stream",
     "text": [
      "[1,2]\n",
      "2\n",
      "1\n",
      "list x is empty\n",
      "...back to the code\n",
      "list x's length: 0 x: []\n"
     ]
    }
   ],
   "source": [
    "x = input()         # [1, 2, 3]\n",
    "\n",
    "while x:\n",
    "    print x.pop()\n",
    "    if len(x) == 2:\n",
    "        break\n",
    "else:\n",
    "    print \"list x is empty\"\n",
    "print \"...back to the code\"\n",
    "print \"list x's length: {} x: {}\".format(len(x), x)\n"
   ]
  },
  {
   "cell_type": "code",
   "execution_count": null,
   "metadata": {
    "collapsed": true
   },
   "outputs": [],
   "source": [
    "# also try with try-except !"
   ]
  },
  {
   "cell_type": "code",
   "execution_count": 23,
   "metadata": {
    "collapsed": false
   },
   "outputs": [
    {
     "name": "stdout",
     "output_type": "stream",
     "text": [
      "[]\n",
      "\n",
      "cycle ended successfully\n",
      "\n",
      "normal code\n",
      "'x' is []\n",
      "'i' is 3\n"
     ]
    }
   ],
   "source": [
    "x = input()     # [1, 2, 42, 5]\n",
    "\n",
    "# del i    # safe delete ?\n",
    "\n",
    "for i in x:\n",
    "    print i,\n",
    "    if i == 42:\n",
    "        break\n",
    "else:\n",
    "    print \"\\ncycle ended successfully\"\n",
    "print \"\\nnormal code\\n'x' is {}\\n'i' is {}\".format(x, i) # how to print 'i' in a safe way?\n",
    "\n",
    "\n",
    "# what about locals and globals ?\n"
   ]
  },
  {
   "cell_type": "code",
   "execution_count": 24,
   "metadata": {
    "collapsed": false
   },
   "outputs": [
    {
     "name": "stdout",
     "output_type": "stream",
     "text": [
      "Hetfo\n",
      "Kedd\n",
      "Szerda\n",
      "Csutortok\n",
      "Pentek\n",
      "Szombat\n",
      "Vasarnap\n"
     ]
    }
   ],
   "source": [
    "napok = [\"Hetfo\", \"Kedd\", \"Szerda\", \"Csutortok\", \"Pentek\", \"Szombat\", \"Vasarnap\"]\n",
    "\n",
    "for nap in napok:\n",
    "    print nap\n",
    "\n",
    "\n",
    "# with enumerate ?"
   ]
  },
  {
   "cell_type": "code",
   "execution_count": 25,
   "metadata": {
    "collapsed": false,
    "scrolled": true
   },
   "outputs": [
    {
     "name": "stdout",
     "output_type": "stream",
     "text": [
      "Hetfo\n",
      "Kedd\n",
      "Szerda\n",
      "Csutortok\n",
      "C , s , u , t , o , r , t , o , k , Pentek\n",
      "Szombat\n",
      "Vasarnap\n"
     ]
    }
   ],
   "source": [
    "for nap in napok:\n",
    "    print nap\n",
    "    if nap == \"Csutortok\":\n",
    "        for betu in nap:\n",
    "            print betu, \",\",\n",
    "\n",
    "\n",
    "# any bug ?\n",
    "# print nap ?"
   ]
  },
  {
   "cell_type": "code",
   "execution_count": 28,
   "metadata": {
    "collapsed": false
   },
   "outputs": [
    {
     "data": {
      "text/plain": [
       "'C, s, u, t, o, r, t, o, k'"
      ]
     },
     "execution_count": 28,
     "metadata": {},
     "output_type": "execute_result"
    }
   ],
   "source": [
    "# the more pythonic way to write letters\n",
    "\n",
    "cs = list(napok[3])\n",
    "\", \".join(cs)"
   ]
  },
  {
   "cell_type": "markdown",
   "metadata": {},
   "source": [
    "#### mutables and unmutables in cycle"
   ]
  },
  {
   "cell_type": "code",
   "execution_count": 26,
   "metadata": {
    "collapsed": false
   },
   "outputs": [
    {
     "name": "stdout",
     "output_type": "stream",
     "text": [
      "['Hetfo', 'Kedd', 'Szerda', 'Csutortok', 'Pentek', 'Szombat', 'Vasarnap']\n"
     ]
    }
   ],
   "source": [
    "for nap in napok:\n",
    "    if nap == \"Csutortok\":\n",
    "        nap = \"Csütörtök\"    # does it work ?   check it with dict!\n",
    "print napok"
   ]
  },
  {
   "cell_type": "code",
   "execution_count": 27,
   "metadata": {
    "collapsed": false
   },
   "outputs": [
    {
     "name": "stdout",
     "output_type": "stream",
     "text": [
      "['Hetfo', 'Kedd', 'Szerda', 'Csutortok', 'Pentek', 'Szombat', 'Vasarnap', ['cs', 1]]\n"
     ]
    }
   ],
   "source": [
    "napok.append([\"cs\"])\n",
    "for nap in napok:\n",
    "    if nap == \"Csutortok\":\n",
    "        nap = \"Csütörtök\"    # does it work ?   check it with dict!\n",
    "    if nap == [\"cs\"]:\n",
    "        nap.append(1)\n",
    "print napok"
   ]
  },
  {
   "cell_type": "code",
   "execution_count": 29,
   "metadata": {
    "collapsed": false
   },
   "outputs": [
    {
     "name": "stdout",
     "output_type": "stream",
     "text": [
      "1\tHetfo\n",
      "2\tKedd\n",
      "3\tSzerda\n",
      "4\tCsutortok\n",
      "5\tPentek\n",
      "6\tSzombat\n",
      "7\tVasarnap\n"
     ]
    }
   ],
   "source": [
    "# cycle with more variables ?\n",
    "\n",
    "napok2 = [[\"Hetfo\", 1], [\"Kedd\", 2], [\"Szerda\", 3], [\"Csutortok\", 4], [\"Pentek\", 5], [\"Szombat\", 6], [\"Vasarnap\", 7]]\n",
    "\n",
    "for i, j in napok2:  # how to access both numbers and days\n",
    "    print \"%d\\t%s\"%(j,i)\n"
   ]
  },
  {
   "cell_type": "code",
   "execution_count": 31,
   "metadata": {
    "collapsed": false
   },
   "outputs": [
    {
     "name": "stdout",
     "output_type": "stream",
     "text": [
      "1 Hetfo\n",
      "2 Kedd\n",
      "3 Szerda\n",
      "4 Csutortok\n",
      "5 Pentek\n",
      "6 Szombat\n",
      "7 Vasarnap\n"
     ]
    }
   ],
   "source": [
    "napok = napok[:7]\n",
    "# not preferd, but works\n",
    "\n",
    "for i in range(len(napok)): # use xrange !\n",
    "    print i+1, napok[i]"
   ]
  },
  {
   "cell_type": "code",
   "execution_count": 32,
   "metadata": {
    "collapsed": false
   },
   "outputs": [
    {
     "name": "stdout",
     "output_type": "stream",
     "text": [
      "1 Hetfo\n",
      "2 Kedd\n",
      "3 Szerda\n",
      "4 Csutortok\n",
      "5 Pentek\n",
      "6 Szombat\n",
      "7 Vasarnap\n"
     ]
    }
   ],
   "source": [
    "for i,j in enumerate(napok):\n",
    "    print i+1, j"
   ]
  },
  {
   "cell_type": "code",
   "execution_count": 35,
   "metadata": {
    "collapsed": false
   },
   "outputs": [
    {
     "name": "stdout",
     "output_type": "stream",
     "text": [
      "1 Hetfo\n",
      "2 Kedd\n",
      "3 Szerda\n",
      "4 Csutortok\n",
      "5 Pentek\n",
      "6 Szombat\n",
      "7 Vasarnap\n"
     ]
    }
   ],
   "source": [
    "for j,i in zip(napok, xrange(1, len(napok) + 1)):  # what if one collection is shorter ?\n",
    "    print i, j"
   ]
  },
  {
   "cell_type": "markdown",
   "metadata": {},
   "source": [
    "#### dictionary and set"
   ]
  },
  {
   "cell_type": "code",
   "execution_count": 40,
   "metadata": {
    "collapsed": false
   },
   "outputs": [
    {
     "name": "stdout",
     "output_type": "stream",
     "text": [
      "3\n",
      "Szombat 6\n",
      "Hetfo 1\n",
      "Vasarnap 7\n",
      "Szerda 3\n",
      "Kedd 2\n",
      "Csutortok 4\n",
      "Pentek 5\n"
     ]
    }
   ],
   "source": [
    "napok = {\"Hetfo\": 1, \"Kedd\": 2, \"Szerda\": 3, \"Csutortok\": 4, \"Pentek\": 5, \"Szombat\": 6, \"Vasarnap\": 7}\n",
    "\n",
    "print napok[\"Szerda\"]\n",
    "\n",
    "for nap in napok:\n",
    "    print nap, napok[nap]\n",
    "\n",
    "\n",
    "# in keys ?\n",
    "# modify ?\n",
    "# copy ?\n",
    "\n",
    "\n",
    "\n",
    "\n",
    "\n"
   ]
  },
  {
   "cell_type": "code",
   "execution_count": 54,
   "metadata": {
    "collapsed": false
   },
   "outputs": [
    {
     "name": "stdout",
     "output_type": "stream",
     "text": [
      "    Hetfo --- Szombat\n",
      "  Szombat --- Hetfo\n",
      " Vasarnap --- Vasarnap\n",
      "   Szerda --- Szerda\n",
      "     Kedd --- Kedd\n",
      "Csutortok --- Csutortok\n",
      "   Pentek --- Pentek\n"
     ]
    }
   ],
   "source": [
    "napok_s = set(napok.keys())\n",
    "\n",
    "for nap_s, nap_d in zip(napok_s, napok):\n",
    "    print \"%9s --- %s\"%(nap_s, nap_d)"
   ]
  },
  {
   "cell_type": "code",
   "execution_count": 57,
   "metadata": {
    "collapsed": false
   },
   "outputs": [
    {
     "name": "stdout",
     "output_type": "stream",
     "text": [
      "<type 'dict'> <type 'set'> 1 <type 'set'> 0\n"
     ]
    }
   ],
   "source": [
    "# by default, dict:\n",
    "d = {}\n",
    "s = {None}\n",
    "s2 = set()\n",
    "\n",
    "print type(d), type(s), len(s), type(s2), len(s2)"
   ]
  },
  {
   "cell_type": "code",
   "execution_count": 60,
   "metadata": {
    "collapsed": false
   },
   "outputs": [
    {
     "data": {
      "text/plain": [
       "{1: 2, 3: 4}"
      ]
     },
     "execution_count": 60,
     "metadata": {},
     "output_type": "execute_result"
    }
   ],
   "source": [
    "dict(((1,2),(3,4)))"
   ]
  },
  {
   "cell_type": "code",
   "execution_count": 68,
   "metadata": {
    "collapsed": false
   },
   "outputs": [
    {
     "name": "stdout",
     "output_type": "stream",
     "text": [
      "név: Kovács Dezső \t tel.: +3611234567\n",
      "\n"
     ]
    }
   ],
   "source": [
    "# dictionary keyword unpack:\n",
    "\n",
    "rec = {\"name\": u\"Kovács Dezső\", \"phone\": \"+3611234567\"}\n",
    "\n",
    "s = u\"név: {name} \\t tel.: {phone}\\n\".format(**rec)\n",
    "\n",
    "print s\n",
    "\n",
    "\n",
    "\n",
    "# with other functions ?"
   ]
  },
  {
   "cell_type": "markdown",
   "metadata": {},
   "source": [
    "#### mini task:"
   ]
  },
  {
   "cell_type": "code",
   "execution_count": null,
   "metadata": {
    "collapsed": true
   },
   "outputs": [],
   "source": [
    "\n",
    "# try to do:\n",
    "\n",
    "import this\n"
   ]
  },
  {
   "cell_type": "code",
   "execution_count": null,
   "metadata": {
    "collapsed": true
   },
   "outputs": [],
   "source": [
    "\n",
    "# much more:\n",
    "\n",
    "dir(this)"
   ]
  },
  {
   "cell_type": "code",
   "execution_count": null,
   "metadata": {
    "collapsed": true
   },
   "outputs": [],
   "source": []
  },
  {
   "cell_type": "markdown",
   "metadata": {},
   "source": [
    "## Comprehensions"
   ]
  },
  {
   "cell_type": "code",
   "execution_count": null,
   "metadata": {
    "collapsed": true
   },
   "outputs": [],
   "source": [
    "x = input()   #  [1,2,42,100]\n",
    "\n",
    "l = [i * i for i in x]\n",
    "print l"
   ]
  },
  {
   "cell_type": "code",
   "execution_count": null,
   "metadata": {
    "collapsed": true
   },
   "outputs": [],
   "source": []
  },
  {
   "cell_type": "markdown",
   "metadata": {},
   "source": [
    "Leap year example"
   ]
  },
  {
   "cell_type": "code",
   "execution_count": 61,
   "metadata": {
    "collapsed": false
   },
   "outputs": [
    {
     "name": "stdout",
     "output_type": "stream",
     "text": [
      "[1904, 1908, 1912, 1916, 1920, 1924, 1928, 1932, 1936]\n"
     ]
    }
   ],
   "source": [
    "\n",
    "# with cycle:\n",
    "\n",
    "leaps = []\n",
    "for year in range(1900, 1940):\n",
    "    if (year % 4 == 0 and year % 100 != 0) or (year % 400 == 0):\n",
    "        leaps.append(year)\n",
    "        \n",
    "print leaps"
   ]
  },
  {
   "cell_type": "code",
   "execution_count": null,
   "metadata": {
    "collapsed": true
   },
   "outputs": [],
   "source": [
    "# with list comprehension ?\n",
    "\n"
   ]
  },
  {
   "cell_type": "code",
   "execution_count": 63,
   "metadata": {
    "collapsed": false
   },
   "outputs": [
    {
     "name": "stdout",
     "output_type": "stream",
     "text": [
      "[1904, 1908, 1912, 1916, 1920, 1924, 1928, 1932, 1936]\n"
     ]
    }
   ],
   "source": [
    "\n",
    "\n",
    "\n",
    "\n",
    "# with list comprehension:\n",
    "\n",
    "\n",
    "\n",
    "\n",
    "\n",
    "\n",
    "leaps = [y for y in range(1900, 1940)\n",
    "         if (y % 4 == 0 and y % 100 != 0) or (y % 400 == 0)]\n",
    "\n",
    "print leaps"
   ]
  },
  {
   "cell_type": "markdown",
   "metadata": {},
   "source": [
    "combinations...\n",
    "\n",
    "**Task:**\n",
    "Get all valid letter combinations of clothes to a list! Codes symbol the gender, size and color. There is no woman dress with eXtra large size! :)"
   ]
  },
  {
   "cell_type": "code",
   "execution_count": null,
   "metadata": {
    "collapsed": true
   },
   "outputs": [],
   "source": []
  },
  {
   "cell_type": "code",
   "execution_count": 64,
   "metadata": {
    "collapsed": false
   },
   "outputs": [
    {
     "name": "stdout",
     "output_type": "stream",
     "text": [
      "['MSB', 'MSG', 'MSW', 'MMB', 'MMG', 'MMW', 'MLB', 'MLG', 'MLW', 'MXB', 'MXG', 'MXW', 'FSB', 'FSG', 'FSW', 'FMB', 'FMG', 'FMW', 'FLB', 'FLG', 'FLW']\n"
     ]
    }
   ],
   "source": [
    "\n",
    "# with cycles:\n",
    "\n",
    "codes = []\n",
    "\n",
    "for sex in \"MF\": # Male, Female\n",
    "    for size in \"SMLX\": # Small, Medium, Large, eXtra large\n",
    "        if sex == \"F\" and size == \"X\":\n",
    "            continue\n",
    "        for color in \"BGW\": # Black, Gray, White\n",
    "            codes.append(sex + size + color)\n",
    "            \n",
    "print codes"
   ]
  },
  {
   "cell_type": "code",
   "execution_count": 65,
   "metadata": {
    "collapsed": false
   },
   "outputs": [
    {
     "name": "stdout",
     "output_type": "stream",
     "text": [
      "['MSB', 'MSG', 'MSW', 'MMB', 'MMG', 'MMW', 'MLB', 'MLG', 'MLW', 'MXB', 'MXG', 'MXW', 'FSB', 'FSG', 'FSW', 'FMB', 'FMG', 'FMW', 'FLB', 'FLG', 'FLW']\n"
     ]
    }
   ],
   "source": [
    "\n",
    "\n",
    "\n",
    "\n",
    "# with combination comprehension:\n",
    "\n",
    "\n",
    "\n",
    "\n",
    "\n",
    "codes = [s + z + c for s in \"MF\" for z in \"SMLX\" for c in \"BGW\"\n",
    "         if not (s == \"F\" and z == \"X\")]\n",
    "\n",
    "print codes"
   ]
  },
  {
   "cell_type": "markdown",
   "metadata": {},
   "source": [
    "#### Also works with `set` and `dict`!"
   ]
  },
  {
   "cell_type": "code",
   "execution_count": null,
   "metadata": {
    "collapsed": true
   },
   "outputs": [],
   "source": [
    "from os import listdir\n",
    "\n",
    "files = listdir(\"/path/to/somewhere\")\n",
    "\n",
    "# create set with just the html files\n",
    "html = {x for x in files if x.lower().endswith((\".htm\", \".html\"))}"
   ]
  },
  {
   "cell_type": "code",
   "execution_count": 74,
   "metadata": {
    "collapsed": false
   },
   "outputs": [
    {
     "name": "stdout",
     "output_type": "stream",
     "text": [
      "                    lesson1.md\t\t4452\n",
      "                    lesson2.md\t\t3433\n",
      "                    .gitignore\t\t48\n",
      "        Lesson+1+samples.ipynb\t\t14407\n",
      "              TestResults.xlsx\t\t22364\n",
      "      Lesson+2+3+samples.ipynb\t\t18711\n",
      "        Lesson+4+samples.ipynb\t\t16857\n",
      "              sample_script.py\t\t240\n",
      "Programming in Python 3, 2nd Edition.pdf\t\t7427674\n",
      "                    lessons.md\t\t2579\n",
      "                    lesson4.md\t\t3917\n",
      "                   examples.md\t\t5034\n",
      "                     readme.md\t\t162\n"
     ]
    }
   ],
   "source": [
    "import os\n",
    "\n",
    "file_sizes = {name: os.path.getsize(name) for name in os.listdir(\".\")\n",
    "              if os.path.isfile(name)}\n",
    "\n",
    "for f in file_sizes:\n",
    "    print \"%30s\\t\\t%d\"%(f, file_sizes[f])"
   ]
  },
  {
   "cell_type": "code",
   "execution_count": null,
   "metadata": {
    "collapsed": true
   },
   "outputs": [],
   "source": []
  },
  {
   "cell_type": "markdown",
   "metadata": {},
   "source": [
    "#### The `this` sample"
   ]
  },
  {
   "cell_type": "code",
   "execution_count": 76,
   "metadata": {
    "collapsed": false
   },
   "outputs": [
    {
     "name": "stdout",
     "output_type": "stream",
     "text": [
      "Gur Mra bs Clguba, ol Gvz Crgref\n",
      "\n",
      "Ornhgvshy vf orggre guna htyl.\n",
      "Rkcyvpvg vf orggre guna vzcyvpvg.\n",
      "Fvzcyr vf orggre guna pbzcyrk.\n",
      "Pbzcyrk vf orggre guna pbzcyvpngrq.\n",
      "Syng vf orggre guna arfgrq.\n",
      "Fcnefr vf orggre guna qrafr.\n",
      "Ernqnovyvgl pbhagf.\n",
      "Fcrpvny pnfrf nera'g fcrpvny rabhtu gb oernx gur ehyrf.\n",
      "Nygubhtu cenpgvpnyvgl orngf chevgl.\n",
      "Reebef fubhyq arire cnff fvyragyl.\n",
      "Hayrff rkcyvpvgyl fvyraprq.\n",
      "Va gur snpr bs nzovthvgl, ershfr gur grzcgngvba gb thrff.\n",
      "Gurer fubhyq or bar-- naq cersrenoyl bayl bar --boivbhf jnl gb qb vg.\n",
      "Nygubhtu gung jnl znl abg or boivbhf ng svefg hayrff lbh'er Qhgpu.\n",
      "Abj vf orggre guna arire.\n",
      "Nygubhtu arire vf bsgra orggre guna *evtug* abj.\n",
      "Vs gur vzcyrzragngvba vf uneq gb rkcynva, vg'f n onq vqrn.\n",
      "Vs gur vzcyrzragngvba vf rnfl gb rkcynva, vg znl or n tbbq vqrn.\n",
      "Anzrfcnprf ner bar ubaxvat terng vqrn -- yrg'f qb zber bs gubfr!\n"
     ]
    }
   ],
   "source": [
    "import this\n",
    "\n",
    "dir(this)\n",
    "\n",
    "print this.s"
   ]
  },
  {
   "cell_type": "code",
   "execution_count": 77,
   "metadata": {
    "collapsed": false
   },
   "outputs": [
    {
     "name": "stdout",
     "output_type": "stream",
     "text": [
      "The Zen of Python, by Tim Peters\n",
      "\n",
      "Beautiful is better than ugly.\n",
      "Explicit is better than implicit.\n",
      "Simple is better than complex.\n",
      "Complex is better than complicated.\n",
      "Flat is better than nested.\n",
      "Sparse is better than dense.\n",
      "Readability counts.\n",
      "Special cases aren't special enough to break the rules.\n",
      "Although practicality beats purity.\n",
      "Errors should never pass silently.\n",
      "Unless explicitly silenced.\n",
      "In the face of ambiguity, refuse the temptation to guess.\n",
      "There should be one-- and preferably only one --obvious way to do it.\n",
      "Although that way may not be obvious at first unless you're Dutch.\n",
      "Now is better than never.\n",
      "Although never is often better than *right* now.\n",
      "If the implementation is hard to explain, it's a bad idea.\n",
      "If the implementation is easy to explain, it may be a good idea.\n",
      "Namespaces are one honking great idea -- let's do more of those!\n"
     ]
    }
   ],
   "source": [
    "\n",
    "\n",
    "\n",
    "# the pythonic way:\n",
    "\n",
    "\n",
    "\n",
    "\n",
    "\n",
    "print ''.join([(this.d[c] if c in this.d.keys() else c) for c in this.s])"
   ]
  },
  {
   "cell_type": "code",
   "execution_count": null,
   "metadata": {
    "collapsed": true
   },
   "outputs": [],
   "source": []
  },
  {
   "cell_type": "markdown",
   "metadata": {},
   "source": [
    "----"
   ]
  },
  {
   "cell_type": "markdown",
   "metadata": {},
   "source": [
    "## Generators and iterators..."
   ]
  },
  {
   "cell_type": "code",
   "execution_count": null,
   "metadata": {
    "collapsed": true
   },
   "outputs": [],
   "source": []
  }
 ],
 "metadata": {
  "kernelspec": {
   "display_name": "Python 2",
   "language": "python",
   "name": "python2"
  },
  "language_info": {
   "codemirror_mode": {
    "name": "ipython",
    "version": 2
   },
   "file_extension": ".py",
   "mimetype": "text/x-python",
   "name": "python",
   "nbconvert_exporter": "python",
   "pygments_lexer": "ipython2",
   "version": "2.7.10"
  }
 },
 "nbformat": 4,
 "nbformat_minor": 2
}
