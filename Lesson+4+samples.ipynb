{
 "metadata": {
  "kernelspec": {
   "display_name": "Python 2",
   "language": "python",
   "name": "python2"
  },
  "language_info": {
   "codemirror_mode": {
    "name": "ipython",
    "version": 2
   },
   "file_extension": ".py",
   "mimetype": "text/x-python",
   "name": "python",
   "nbconvert_exporter": "python",
   "pygments_lexer": "ipython2",
   "version": "2.7.10"
  },
  "name": "",
  "signature": "sha256:da1a5e50fc5f410eaec28a0e5c20aa4318c8d770625ce753747b1630ab6f3451"
 },
 "nbformat": 3,
 "nbformat_minor": 0,
 "worksheets": [
  {
   "cells": [
    {
     "cell_type": "heading",
     "level": 1,
     "metadata": {},
     "source": [
      "Lesson 4"
     ]
    },
    {
     "cell_type": "markdown",
     "metadata": {},
     "source": [
      ">**Info**:\n",
      ">   In IPython/Jupyter shell, every cell can contain multiple lines of Python code.\n",
      ">   IPython cells also can contain formatted text, like this.\n",
      ">   To execute a cell block, press CTRL+Enter!"
     ]
    },
    {
     "cell_type": "heading",
     "level": 2,
     "metadata": {},
     "source": [
      "Cycles and collections"
     ]
    },
    {
     "cell_type": "code",
     "collapsed": false,
     "input": [
      "x = input()         # [1, 2, 3]\n",
      "\n",
      "while len(x) != 0:  # can simplify !\n",
      "    print x.pop()\n",
      "else:\n",
      "    print \"list x is empty\"\n",
      "print \"...back to the code\"\n",
      "\n",
      "# what if... break? (exception?)"
     ],
     "language": "python",
     "metadata": {},
     "outputs": []
    },
    {
     "cell_type": "code",
     "collapsed": false,
     "input": [
      "x = input()         # [1, 2, 3]\n",
      "\n",
      "while x:\n",
      "    print x.pop()\n",
      "    if len(x) == 2:\n",
      "        break\n",
      "else:\n",
      "    print \"list x is empty\"\n",
      "print \"...back to the code\"\n",
      "print \"list x's length: {} x: {}\".format(len(x), x)\n"
     ],
     "language": "python",
     "metadata": {},
     "outputs": []
    },
    {
     "cell_type": "code",
     "collapsed": true,
     "input": [
      "# also try with try-except !"
     ],
     "language": "python",
     "metadata": {},
     "outputs": []
    },
    {
     "cell_type": "code",
     "collapsed": false,
     "input": [
      "x = input()     # [1, 2, 42, 5]\n",
      "\n",
      "# del i    # safe delete ?\n",
      "\n",
      "for i in x:\n",
      "    print i,\n",
      "    if i == 42:\n",
      "        break\n",
      "else:\n",
      "    print \"\\ncycle ended successfully\"\n",
      "print \"\\nnormal code\\n'x' is {}\\n'i' is {}\".format(x, i) # how to print 'i' in a safe way?\n",
      "\n",
      "\n",
      "# what about locals and globals ?\n"
     ],
     "language": "python",
     "metadata": {},
     "outputs": []
    },
    {
     "cell_type": "code",
     "collapsed": false,
     "input": [
      "napok = [\"Hetfo\", \"Kedd\", \"Szerda\", \"Csutortok\", \"Pentek\", \"Szombat\", \"Vasarnap\"]\n",
      "\n",
      "for nap in napok:\n",
      "    print nap\n",
      "\n",
      "\n",
      "# with enumerate ?"
     ],
     "language": "python",
     "metadata": {},
     "outputs": []
    },
    {
     "cell_type": "code",
     "collapsed": false,
     "input": [
      "for nap in napok:\n",
      "    print nap\n",
      "    if nap == \"Csutortok\":\n",
      "        for betu in nap:\n",
      "            print betu, \",\",\n",
      "\n",
      "\n",
      "# any bug ?\n",
      "# print nap ?"
     ],
     "language": "python",
     "metadata": {
      "scrolled": true
     },
     "outputs": []
    },
    {
     "cell_type": "code",
     "collapsed": false,
     "input": [
      "# the more pythonic way to write letters\n",
      "\n",
      "cs = list(napok[3])\n",
      "\", \".join(cs)"
     ],
     "language": "python",
     "metadata": {},
     "outputs": []
    },
    {
     "cell_type": "heading",
     "level": 4,
     "metadata": {},
     "source": [
      "mutables and unmutables in cycle"
     ]
    },
    {
     "cell_type": "code",
     "collapsed": false,
     "input": [
      "for nap in napok:\n",
      "    if nap == \"Csutortok\":\n",
      "        nap = \"Cs\u00fct\u00f6rt\u00f6k\"    # does it work ?   check it with dict!\n",
      "print napok"
     ],
     "language": "python",
     "metadata": {},
     "outputs": []
    },
    {
     "cell_type": "code",
     "collapsed": false,
     "input": [
      "napok.append([\"cs\"])\n",
      "for nap in napok:\n",
      "    if nap == \"Csutortok\":\n",
      "        nap = \"Cs\u00fct\u00f6rt\u00f6k\"    # does it work ?   check it with dict!\n",
      "    if nap == [\"cs\"]:\n",
      "        nap.append(1)\n",
      "print napok"
     ],
     "language": "python",
     "metadata": {},
     "outputs": []
    },
    {
     "cell_type": "code",
     "collapsed": false,
     "input": [
      "# cycle with more variables ?\n",
      "\n",
      "napok2 = [[\"Hetfo\", 1], [\"Kedd\", 2], [\"Szerda\", 3], [\"Csutortok\", 4], [\"Pentek\", 5], [\"Szombat\", 6], [\"Vasarnap\", 7]]\n",
      "\n",
      "for i, j in napok2:  # how to access both numbers and days\n",
      "    print \"%d\\t%s\"%(j,i)\n"
     ],
     "language": "python",
     "metadata": {},
     "outputs": []
    },
    {
     "cell_type": "code",
     "collapsed": false,
     "input": [
      "napok = napok[:7]\n",
      "# not preferd, but works\n",
      "\n",
      "for i in range(len(napok)): # use xrange !\n",
      "    print i+1, napok[i]"
     ],
     "language": "python",
     "metadata": {},
     "outputs": []
    },
    {
     "cell_type": "code",
     "collapsed": false,
     "input": [
      "for i,j in enumerate(napok):\n",
      "    print i+1, j"
     ],
     "language": "python",
     "metadata": {},
     "outputs": []
    },
    {
     "cell_type": "code",
     "collapsed": false,
     "input": [
      "for j,i in zip(napok, xrange(1, len(napok) + 1)):  # what if one collection is shorter ?\n",
      "    print i, j"
     ],
     "language": "python",
     "metadata": {},
     "outputs": []
    },
    {
     "cell_type": "heading",
     "level": 4,
     "metadata": {},
     "source": [
      "dictionary and set"
     ]
    },
    {
     "cell_type": "code",
     "collapsed": false,
     "input": [
      "napok = {\"Hetfo\": 1, \"Kedd\": 2, \"Szerda\": 3, \"Csutortok\": 4, \"Pentek\": 5, \"Szombat\": 6, \"Vasarnap\": 7}\n",
      "\n",
      "print napok[\"Szerda\"]\n",
      "\n",
      "for nap in napok:\n",
      "    print nap, napok[nap]\n",
      "\n",
      "\n",
      "# in keys ?\n",
      "# modify ?\n",
      "# copy ?\n",
      "# .items() ?\n",
      "\n",
      "\n",
      "\n",
      "\n",
      "\n"
     ],
     "language": "python",
     "metadata": {},
     "outputs": []
    },
    {
     "cell_type": "code",
     "collapsed": false,
     "input": [
      "napok_s = set(napok.keys())\n",
      "\n",
      "for nap_s, nap_d in zip(napok_s, napok):\n",
      "    print \"%9s --- %s\"%(nap_s, nap_d)"
     ],
     "language": "python",
     "metadata": {},
     "outputs": []
    },
    {
     "cell_type": "code",
     "collapsed": false,
     "input": [
      "# by default, dict:\n",
      "d = {}\n",
      "s = {None}\n",
      "s2 = set()\n",
      "\n",
      "print type(d), type(s), len(s), type(s2), len(s2)"
     ],
     "language": "python",
     "metadata": {},
     "outputs": []
    },
    {
     "cell_type": "code",
     "collapsed": false,
     "input": [
      "dict(((1,2),(3,4)))"
     ],
     "language": "python",
     "metadata": {},
     "outputs": []
    },
    {
     "cell_type": "code",
     "collapsed": false,
     "input": [
      "# dictionary keyword unpack:\n",
      "\n",
      "rec = {\"name\": u\"Kov\u00e1cs Dezs\u0151\", \"phone\": \"+3611234567\"}\n",
      "\n",
      "s = u\"n\u00e9v: {name} \\t tel.: {phone}\\n\".format(**rec)\n",
      "\n",
      "print s\n",
      "\n",
      "\n",
      "\n",
      "# with other functions ?"
     ],
     "language": "python",
     "metadata": {},
     "outputs": []
    },
    {
     "cell_type": "heading",
     "level": 4,
     "metadata": {},
     "source": [
      "mini task:"
     ]
    },
    {
     "cell_type": "code",
     "collapsed": true,
     "input": [
      "\n",
      "# try to do:\n",
      "\n",
      "import this\n"
     ],
     "language": "python",
     "metadata": {},
     "outputs": []
    },
    {
     "cell_type": "code",
     "collapsed": true,
     "input": [
      "\n",
      "# much more:\n",
      "\n",
      "dir(this)"
     ],
     "language": "python",
     "metadata": {},
     "outputs": []
    },
    {
     "cell_type": "code",
     "collapsed": true,
     "input": [],
     "language": "python",
     "metadata": {},
     "outputs": []
    },
    {
     "cell_type": "heading",
     "level": 2,
     "metadata": {},
     "source": [
      "Comprehensions"
     ]
    },
    {
     "cell_type": "code",
     "collapsed": true,
     "input": [
      "x = input()   #  [1,2,42,100]\n",
      "\n",
      "l = [i * i for i in x]\n",
      "print l"
     ],
     "language": "python",
     "metadata": {},
     "outputs": []
    },
    {
     "cell_type": "code",
     "collapsed": true,
     "input": [],
     "language": "python",
     "metadata": {},
     "outputs": []
    },
    {
     "cell_type": "markdown",
     "metadata": {},
     "source": [
      "Leap year example"
     ]
    },
    {
     "cell_type": "code",
     "collapsed": false,
     "input": [
      "\n",
      "# with cycle:\n",
      "\n",
      "leaps = []\n",
      "for year in range(1900, 1940):\n",
      "    if (year % 4 == 0 and year % 100 != 0) or (year % 400 == 0):\n",
      "        leaps.append(year)\n",
      "        \n",
      "print leaps"
     ],
     "language": "python",
     "metadata": {},
     "outputs": []
    },
    {
     "cell_type": "code",
     "collapsed": true,
     "input": [
      "# with list comprehension ?\n",
      "\n"
     ],
     "language": "python",
     "metadata": {},
     "outputs": []
    },
    {
     "cell_type": "code",
     "collapsed": false,
     "input": [
      "\n",
      "\n",
      "\n",
      "\n",
      "# with list comprehension:\n",
      "\n",
      "\n",
      "\n",
      "\n",
      "\n",
      "\n",
      "leaps = [y for y in range(1900, 1940)\n",
      "         if (y % 4 == 0 and y % 100 != 0) or (y % 400 == 0)]\n",
      "\n",
      "print leaps"
     ],
     "language": "python",
     "metadata": {},
     "outputs": []
    },
    {
     "cell_type": "markdown",
     "metadata": {},
     "source": [
      "combinations...\n",
      "\n",
      "**Task:**\n",
      "Get all valid letter combinations of clothes to a list! Codes symbol the gender, size and color. There is no woman dress with eXtra large size! :)"
     ]
    },
    {
     "cell_type": "code",
     "collapsed": true,
     "input": [],
     "language": "python",
     "metadata": {},
     "outputs": []
    },
    {
     "cell_type": "code",
     "collapsed": false,
     "input": [
      "\n",
      "# with cycles:\n",
      "\n",
      "codes = []\n",
      "\n",
      "for sex in \"MF\": # Male, Female\n",
      "    for size in \"SMLX\": # Small, Medium, Large, eXtra large\n",
      "        if sex == \"F\" and size == \"X\":\n",
      "            continue\n",
      "        for color in \"BGW\": # Black, Gray, White\n",
      "            codes.append(sex + size + color)\n",
      "            \n",
      "print codes"
     ],
     "language": "python",
     "metadata": {},
     "outputs": []
    },
    {
     "cell_type": "code",
     "collapsed": false,
     "input": [
      "\n",
      "\n",
      "\n",
      "\n",
      "# with combination comprehension:\n",
      "\n",
      "\n",
      "\n",
      "\n",
      "\n",
      "codes = [s + z + c for s in \"MF\" for z in \"SMLX\" for c in \"BGW\"\n",
      "         if not (s == \"F\" and z == \"X\")]\n",
      "\n",
      "print codes"
     ],
     "language": "python",
     "metadata": {},
     "outputs": []
    },
    {
     "cell_type": "heading",
     "level": 4,
     "metadata": {},
     "source": [
      "Also works with `set` and `dict`!"
     ]
    },
    {
     "cell_type": "code",
     "collapsed": true,
     "input": [
      "from os import listdir\n",
      "\n",
      "files = listdir(\"/path/to/somewhere\")\n",
      "\n",
      "# create set with just the html files\n",
      "html = {x for x in files if x.lower().endswith((\".htm\", \".html\"))}"
     ],
     "language": "python",
     "metadata": {},
     "outputs": []
    },
    {
     "cell_type": "code",
     "collapsed": false,
     "input": [
      "import os\n",
      "\n",
      "file_sizes = {name: os.path.getsize(name) for name in os.listdir(\".\")\n",
      "              if os.path.isfile(name)}\n",
      "\n",
      "for f in file_sizes:\n",
      "    print \"%30s\\t\\t%d\"%(f, file_sizes[f])"
     ],
     "language": "python",
     "metadata": {},
     "outputs": []
    },
    {
     "cell_type": "code",
     "collapsed": true,
     "input": [],
     "language": "python",
     "metadata": {},
     "outputs": []
    },
    {
     "cell_type": "heading",
     "level": 4,
     "metadata": {},
     "source": [
      "The `this` sample"
     ]
    },
    {
     "cell_type": "code",
     "collapsed": false,
     "input": [
      "import this\n",
      "\n",
      "dir(this)\n",
      "\n",
      "print this.s"
     ],
     "language": "python",
     "metadata": {},
     "outputs": []
    },
    {
     "cell_type": "code",
     "collapsed": false,
     "input": [
      "\n",
      "\n",
      "\n",
      "# the pythonic way:\n",
      "\n",
      "\n",
      "\n",
      "\n",
      "\n",
      "print ''.join([(this.d[c] if c in this.d.keys() else c) for c in this.s])"
     ],
     "language": "python",
     "metadata": {},
     "outputs": []
    },
    {
     "cell_type": "code",
     "collapsed": true,
     "input": [],
     "language": "python",
     "metadata": {},
     "outputs": []
    },
    {
     "cell_type": "markdown",
     "metadata": {},
     "source": [
      "----"
     ]
    },
    {
     "cell_type": "heading",
     "level": 2,
     "metadata": {},
     "source": [
      "Generators and iterators..."
     ]
    },
    {
     "cell_type": "code",
     "collapsed": true,
     "input": [],
     "language": "python",
     "metadata": {},
     "outputs": []
    }
   ],
   "metadata": {}
  }
 ]
}