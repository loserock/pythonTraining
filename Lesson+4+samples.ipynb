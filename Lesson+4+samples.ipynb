{
 "metadata": {
  "kernelspec": {
   "display_name": "Python 2",
   "language": "python",
   "name": "python2"
  },
  "language_info": {
   "codemirror_mode": {
    "name": "ipython",
    "version": 2
   },
   "file_extension": ".py",
   "mimetype": "text/x-python",
   "name": "python",
   "nbconvert_exporter": "python",
   "pygments_lexer": "ipython2",
   "version": "2.7.10"
  },
  "name": "",
  "signature": "sha256:4232421dc1880ba55310948abeac608e520d63881b96ee38c84c066af7c0e2d7"
 },
 "nbformat": 3,
 "nbformat_minor": 0,
 "worksheets": [
  {
   "cells": [
    {
     "cell_type": "heading",
     "level": 1,
     "metadata": {},
     "source": [
      "Lesson 4"
     ]
    },
    {
     "cell_type": "markdown",
     "metadata": {},
     "source": [
      ">**Info**:\n",
      ">   In IPython/Jupyter shell, every cell can contain multiple lines of Python code.\n",
      ">   IPython cells also can contain formatted text, like this.\n",
      ">   To execute a cell block, press CTRL+Enter!"
     ]
    },
    {
     "cell_type": "heading",
     "level": 2,
     "metadata": {},
     "source": [
      "Cycles and collections"
     ]
    },
    {
     "cell_type": "code",
     "collapsed": false,
     "input": [
      "x = input()         # [1, 2, 3]\n",
      "\n",
      "while x:  # can simplify !\n",
      "    print x.pop()\n",
      "else:\n",
      "    print \"list x is empty\"\n",
      "print \"...back to the code\"\n",
      "\n",
      "# what if... break? (exception?)"
     ],
     "language": "python",
     "metadata": {},
     "outputs": [
      {
       "name": "stdout",
       "output_type": "stream",
       "stream": "stdout",
       "text": [
        "[1,2,3]\n"
       ]
      },
      {
       "output_type": "stream",
       "stream": "stdout",
       "text": [
        "3\n",
        "2\n",
        "1\n",
        "list x is empty\n",
        "...back to the code\n"
       ]
      }
     ],
     "prompt_number": 1
    },
    {
     "cell_type": "code",
     "collapsed": false,
     "input": [
      "x = input()         # [1, 2, 3]\n",
      "\n",
      "while x:\n",
      "    print x.pop()\n",
      "    if len(x) == 2:\n",
      "        break\n",
      "else:\n",
      "    print \"list x is empty\"\n",
      "print \"...back to the code\"\n",
      "print \"list x's length: {} x: {}\".format(len(x), x)\n"
     ],
     "language": "python",
     "metadata": {},
     "outputs": [
      {
       "name": "stdout",
       "output_type": "stream",
       "stream": "stdout",
       "text": [
        "[]\n"
       ]
      },
      {
       "output_type": "stream",
       "stream": "stdout",
       "text": [
        "list x is empty\n",
        "...back to the code\n",
        "list x's length: 0 x: []\n"
       ]
      }
     ],
     "prompt_number": 5
    },
    {
     "cell_type": "code",
     "collapsed": true,
     "input": [
      "# also try with try-except !"
     ],
     "language": "python",
     "metadata": {},
     "outputs": []
    },
    {
     "cell_type": "code",
     "collapsed": false,
     "input": [
      "var = \"abc\"\n",
      "\n",
      "locals()['var'] = 1\n",
      "\n",
      "print var\n",
      "print \"var\" in locals().keys()\n"
     ],
     "language": "python",
     "metadata": {},
     "outputs": [
      {
       "output_type": "stream",
       "stream": "stdout",
       "text": [
        "1\n",
        "True\n"
       ]
      }
     ],
     "prompt_number": 74
    },
    {
     "cell_type": "code",
     "collapsed": false,
     "input": [
      "x = input()     # [1, 2, 42, 5]\n",
      "\n",
      "#if 'i' in locals():\n",
      "#del i    # safe delete ?\n",
      "\n",
      "for i in x:\n",
      "    print i,\n",
      "    if i == 42:\n",
      "        break\n",
      "else:\n",
      "    print \"\\ncycle ended successfully\"\n",
      "print \"\\nnormal code\\n'x' is {}\\n'i' is {}\".format(x, i) # how to print 'i' in a safe way?\n",
      "\n",
      "\n",
      "# what about locals and globals ?\n"
     ],
     "language": "python",
     "metadata": {},
     "outputs": [
      {
       "name": "stdout",
       "output_type": "stream",
       "stream": "stdout",
       "text": [
        "[1,2,3,42,5]\n"
       ]
      },
      {
       "output_type": "stream",
       "stream": "stdout",
       "text": [
        "1 2 3 42 \n",
        "normal code\n",
        "'x' is [1, 2, 3, 42, 5]\n",
        "'i' is 42\n"
       ]
      }
     ],
     "prompt_number": 2
    },
    {
     "cell_type": "code",
     "collapsed": false,
     "input": [
      "\n",
      "for i,j in enumerate(\"abc\"):\n",
      "    print i,j"
     ],
     "language": "python",
     "metadata": {},
     "outputs": [
      {
       "output_type": "stream",
       "stream": "stdout",
       "text": [
        "0 a\n",
        "1 b\n",
        "2 c\n"
       ]
      }
     ],
     "prompt_number": 21
    },
    {
     "cell_type": "code",
     "collapsed": false,
     "input": [
      "napok = [\"Hetfo\", \"Kedd\", \"Szerda\", \"Csutortok\", \"Pentek\", \"Szombat\", \"Vasarnap\"]\n",
      "# print list(enumerate(napok))\n",
      "for i, nap in enumerate(napok):\n",
      "    print \"%d %10s\"%(i+1,nap)\n",
      "\n",
      "\n",
      "# with enumerate ?"
     ],
     "language": "python",
     "metadata": {},
     "outputs": [
      {
       "output_type": "stream",
       "stream": "stdout",
       "text": [
        "1      Hetfo\n",
        "2       Kedd\n",
        "3     Szerda\n",
        "4  Csutortok\n",
        "5     Pentek\n",
        "6    Szombat\n",
        "7   Vasarnap\n"
       ]
      }
     ],
     "prompt_number": 4
    },
    {
     "cell_type": "code",
     "collapsed": false,
     "input": [
      "for nap in napok:\n",
      "    print nap\n",
      "    if nap == \"Csutortok\":\n",
      "        for betu in nap:\n",
      "            print betu, \",\",\n",
      "\n",
      "\n",
      "# any bug ?\n",
      "# print nap ?"
     ],
     "language": "python",
     "metadata": {
      "scrolled": true
     },
     "outputs": [
      {
       "output_type": "stream",
       "stream": "stdout",
       "text": [
        "Hetfo\n",
        "Kedd\n",
        "Szerda\n",
        "Csutortok\n",
        "C , s , u , t , o , r , t , o , k , Pentek\n",
        "Szombat\n",
        "Vasarnap\n"
       ]
      }
     ],
     "prompt_number": 5
    },
    {
     "cell_type": "code",
     "collapsed": false,
     "input": [
      "# the more pythonic way to write letters\n",
      "\n",
      "cs = list(napok[3])\n",
      "\", \".join(cs)"
     ],
     "language": "python",
     "metadata": {},
     "outputs": [
      {
       "metadata": {},
       "output_type": "pyout",
       "prompt_number": 6,
       "text": [
        "'C, s, u, t, o, r, t, o, k'"
       ]
      }
     ],
     "prompt_number": 6
    },
    {
     "cell_type": "heading",
     "level": 4,
     "metadata": {},
     "source": [
      "mutables and unmutables in cycle"
     ]
    },
    {
     "cell_type": "code",
     "collapsed": false,
     "input": [
      "for nap in napok:\n",
      "    if nap == \"Csutortok\":\n",
      "        nap = \"Cs\u00fct\u00f6rt\u00f6k\"    # does it work ?   check it with dict!\n",
      "print napok"
     ],
     "language": "python",
     "metadata": {},
     "outputs": [
      {
       "output_type": "stream",
       "stream": "stdout",
       "text": [
        "['Hetfo', 'Kedd', 'Szerda', 'Csutortok', 'Pentek', 'Szombat', 'Vasarnap']\n"
       ]
      }
     ],
     "prompt_number": 7
    },
    {
     "cell_type": "code",
     "collapsed": false,
     "input": [
      "napok.append([\"cs\"])\n",
      "for nap in napok:\n",
      "    if nap == \"Csutortok\":\n",
      "        nap = \"Cs\u00fct\u00f6rt\u00f6k\"    # does it work ?   check it with dict!\n",
      "    if nap == [\"cs\"]:\n",
      "        nap.append(1)\n",
      "print napok"
     ],
     "language": "python",
     "metadata": {},
     "outputs": [
      {
       "output_type": "stream",
       "stream": "stdout",
       "text": [
        "['Hetfo', 'Kedd', 'Szerda', 'Csutortok', 'Pentek', 'Szombat', 'Vasarnap', ['cs', 1]]\n"
       ]
      }
     ],
     "prompt_number": 8
    },
    {
     "cell_type": "code",
     "collapsed": false,
     "input": [
      "# cycle with more variables ?\n",
      "\n",
      "napok2 = [[\"Hetfo\", 1], [\"Kedd\", 2], [\"Szerda\", 3], [\"Csutortok\", 4], [\"Pentek\", 5], [\"Szombat\", 6], [\"Vasarnap\", 7]]\n",
      "\n",
      "for i, j in napok2:  # how to access both numbers and days\n",
      "    print \"%d\\t%s\"%(j,i)\n"
     ],
     "language": "python",
     "metadata": {},
     "outputs": [
      {
       "output_type": "stream",
       "stream": "stdout",
       "text": [
        "1\tHetfo\n",
        "2\tKedd\n",
        "3\tSzerda\n",
        "4\tCsutortok\n",
        "5\tPentek\n",
        "6\tSzombat\n",
        "7\tVasarnap\n"
       ]
      }
     ],
     "prompt_number": 9
    },
    {
     "cell_type": "code",
     "collapsed": false,
     "input": [
      "napok = napok[:7]\n",
      "# not preferd, but works\n",
      "\n",
      "for i in range(len(napok)): # use xrange !\n",
      "    print i+1, napok[i]\n",
      "    if napok[i]==\"Csutortok\":\n",
      "        napok[i] = u\"Cs\u00fct\u00f6rt\u00f6k\"\n",
      "print napok"
     ],
     "language": "python",
     "metadata": {},
     "outputs": [
      {
       "output_type": "stream",
       "stream": "stdout",
       "text": [
        "1 Hetfo\n",
        "2 Kedd\n",
        "3 Szerda\n",
        "4 Csutortok\n",
        "5 Pentek\n",
        "6 Szombat\n",
        "7 Vasarnap\n",
        "['Hetfo', 'Kedd', 'Szerda', u'Cs\\xfct\\xf6rt\\xf6k', 'Pentek', 'Szombat', 'Vasarnap']\n"
       ]
      }
     ],
     "prompt_number": 10
    },
    {
     "cell_type": "code",
     "collapsed": false,
     "input": [
      "for i,j in enumerate(napok):\n",
      "    print i+1, j"
     ],
     "language": "python",
     "metadata": {},
     "outputs": [
      {
       "output_type": "stream",
       "stream": "stdout",
       "text": [
        "1 Hetfo\n",
        "2 Kedd\n",
        "3 Szerda\n",
        "4 Cs\u00fct\u00f6rt\u00f6k\n",
        "5 Pentek\n",
        "6 Szombat\n",
        "7 Vasarnap\n"
       ]
      }
     ],
     "prompt_number": 11
    },
    {
     "cell_type": "code",
     "collapsed": false,
     "input": [
      "for j,i in zip(napok, xrange(1, len(napok)+1)):  # what if one collection is shorter ?\n",
      "    print i, j"
     ],
     "language": "python",
     "metadata": {},
     "outputs": [
      {
       "output_type": "stream",
       "stream": "stdout",
       "text": [
        "1 Hetfo\n",
        "2 Kedd\n",
        "3 Szerda\n",
        "4 Cs\u00fct\u00f6rt\u00f6k\n",
        "5 Pentek\n",
        "6 Szombat\n",
        "7 Vasarnap\n"
       ]
      }
     ],
     "prompt_number": 12
    },
    {
     "cell_type": "heading",
     "level": 4,
     "metadata": {},
     "source": [
      "dictionary and set"
     ]
    },
    {
     "cell_type": "code",
     "collapsed": false,
     "input": [
      "del napok\n",
      "napok = {\"Hetfo\": 1, \"Kedd\": 2, \"Szerda\": 3, \"Csutortok\": 4, \"Pentek\": 5, \"Szombat\": 6, \"Vasarnap\": 7}\n",
      "\n",
      "print napok[\"Szerda\"]\n",
      "\n",
      "for nap in napok:\n",
      "    if nap==\"Csutortok\":\n",
      "        napok[nap] = -3\n",
      "    print nap, napok[nap]\n",
      "\n",
      "\n",
      "# in keys ?\n",
      "# modify ?\n",
      "# copy ?\n",
      "# .items() ?\n",
      "\n",
      "for nap in napok.items():\n",
      "    print nap\n",
      "\n",
      "\n",
      "\n"
     ],
     "language": "python",
     "metadata": {},
     "outputs": [
      {
       "output_type": "stream",
       "stream": "stdout",
       "text": [
        "3\n",
        "Szombat 6\n",
        "Hetfo 1\n",
        "Vasarnap 7\n",
        "Szerda 3\n",
        "Kedd 2\n",
        "Csutortok -3\n",
        "Pentek 5\n",
        "('Szombat', 6)\n",
        "('Hetfo', 1)\n",
        "('Vasarnap', 7)\n",
        "('Szerda', 3)\n",
        "('Kedd', 2)\n",
        "('Csutortok', -3)\n",
        "('Pentek', 5)\n"
       ]
      }
     ],
     "prompt_number": 48
    },
    {
     "cell_type": "code",
     "collapsed": false,
     "input": [
      "\n",
      "\n",
      "napok_s = set(napok.keys())\n",
      "\n",
      "for nap_s, nap_d in zip(napok_s, napok):\n",
      "    print \"%9s --- %s\"%(nap_s, nap_d)"
     ],
     "language": "python",
     "metadata": {},
     "outputs": [
      {
       "output_type": "stream",
       "stream": "stdout",
       "text": [
        "    Hetfo --- Szombat\n",
        "  Szombat --- Hetfo\n",
        " Vasarnap --- Vasarnap\n",
        "   Szerda --- Szerda\n",
        "     Kedd --- Kedd\n",
        "Csutortok --- Csutortok\n",
        "   Pentek --- Pentek\n"
       ]
      }
     ],
     "prompt_number": 50
    },
    {
     "cell_type": "code",
     "collapsed": false,
     "input": [
      "# by default, dict:\n",
      "d = {}\n",
      "s = {None}\n",
      "s2 = set()\n",
      "\n",
      "print type(d), type(s), len(s), type(s2), len(s2)"
     ],
     "language": "python",
     "metadata": {},
     "outputs": [
      {
       "output_type": "stream",
       "stream": "stdout",
       "text": [
        "<type 'dict'> <type 'set'> 1 <type 'set'> 0\n"
       ]
      }
     ],
     "prompt_number": 51
    },
    {
     "cell_type": "code",
     "collapsed": false,
     "input": [
      "dict(((1,2),(3,4)))"
     ],
     "language": "python",
     "metadata": {},
     "outputs": [
      {
       "metadata": {},
       "output_type": "pyout",
       "prompt_number": 52,
       "text": [
        "{1: 2, 3: 4}"
       ]
      }
     ],
     "prompt_number": 52
    },
    {
     "cell_type": "code",
     "collapsed": false,
     "input": [
      "# dictionary keyword unpack:\n",
      "\n",
      "print \"{} {}\".format(1,2)\n",
      "\n",
      "rec = {\"name\": u\"Kov\u00e1cs Dezs\u0151\", \"phone\": \"+3611234567\"}\n",
      "\n",
      "s = u\"n\u00e9v: {name} \\t tel.: {phone}\\n\".format(**rec)  # unpack dict keys-values with **\n",
      "\n",
      "print s\n",
      "\n",
      "\n",
      "\n",
      "# with other functions ?"
     ],
     "language": "python",
     "metadata": {},
     "outputs": [
      {
       "output_type": "stream",
       "stream": "stdout",
       "text": [
        "1 2\n",
        "n\u00e9v: Kov\u00e1cs Dezs\u0151 \t tel.: +3611234567\n",
        "\n"
       ]
      }
     ],
     "prompt_number": 80
    },
    {
     "cell_type": "heading",
     "level": 4,
     "metadata": {},
     "source": [
      "mini task:"
     ]
    },
    {
     "cell_type": "code",
     "collapsed": true,
     "input": [
      "\n",
      "# try to do:\n",
      "\n",
      "import this\n"
     ],
     "language": "python",
     "metadata": {},
     "outputs": [
      {
       "output_type": "stream",
       "stream": "stdout",
       "text": [
        "The Zen of Python, by Tim Peters\n",
        "\n",
        "Beautiful is better than ugly.\n",
        "Explicit is better than implicit.\n",
        "Simple is better than complex.\n",
        "Complex is better than complicated.\n",
        "Flat is better than nested.\n",
        "Sparse is better than dense.\n",
        "Readability counts.\n",
        "Special cases aren't special enough to break the rules.\n",
        "Although practicality beats purity.\n",
        "Errors should never pass silently.\n",
        "Unless explicitly silenced.\n",
        "In the face of ambiguity, refuse the temptation to guess.\n",
        "There should be one-- and preferably only one --obvious way to do it.\n",
        "Although that way may not be obvious at first unless you're Dutch.\n",
        "Now is better than never.\n",
        "Although never is often better than *right* now.\n",
        "If the implementation is hard to explain, it's a bad idea.\n",
        "If the implementation is easy to explain, it may be a good idea.\n",
        "Namespaces are one honking great idea -- let's do more of those!\n"
       ]
      }
     ],
     "prompt_number": 81
    },
    {
     "cell_type": "code",
     "collapsed": true,
     "input": [
      "\n",
      "# much more:\n",
      "\n",
      "dir(this)"
     ],
     "language": "python",
     "metadata": {},
     "outputs": [
      {
       "metadata": {},
       "output_type": "pyout",
       "prompt_number": 82,
       "text": [
        "['__builtins__',\n",
        " '__doc__',\n",
        " '__file__',\n",
        " '__name__',\n",
        " '__package__',\n",
        " 'c',\n",
        " 'd',\n",
        " 'i',\n",
        " 's']"
       ]
      }
     ],
     "prompt_number": 82
    },
    {
     "cell_type": "code",
     "collapsed": true,
     "input": [
      "this.d"
     ],
     "language": "python",
     "metadata": {},
     "outputs": [
      {
       "metadata": {},
       "output_type": "pyout",
       "prompt_number": 84,
       "text": [
        "{'A': 'N',\n",
        " 'B': 'O',\n",
        " 'C': 'P',\n",
        " 'D': 'Q',\n",
        " 'E': 'R',\n",
        " 'F': 'S',\n",
        " 'G': 'T',\n",
        " 'H': 'U',\n",
        " 'I': 'V',\n",
        " 'J': 'W',\n",
        " 'K': 'X',\n",
        " 'L': 'Y',\n",
        " 'M': 'Z',\n",
        " 'N': 'A',\n",
        " 'O': 'B',\n",
        " 'P': 'C',\n",
        " 'Q': 'D',\n",
        " 'R': 'E',\n",
        " 'S': 'F',\n",
        " 'T': 'G',\n",
        " 'U': 'H',\n",
        " 'V': 'I',\n",
        " 'W': 'J',\n",
        " 'X': 'K',\n",
        " 'Y': 'L',\n",
        " 'Z': 'M',\n",
        " 'a': 'n',\n",
        " 'b': 'o',\n",
        " 'c': 'p',\n",
        " 'd': 'q',\n",
        " 'e': 'r',\n",
        " 'f': 's',\n",
        " 'g': 't',\n",
        " 'h': 'u',\n",
        " 'i': 'v',\n",
        " 'j': 'w',\n",
        " 'k': 'x',\n",
        " 'l': 'y',\n",
        " 'm': 'z',\n",
        " 'n': 'a',\n",
        " 'o': 'b',\n",
        " 'p': 'c',\n",
        " 'q': 'd',\n",
        " 'r': 'e',\n",
        " 's': 'f',\n",
        " 't': 'g',\n",
        " 'u': 'h',\n",
        " 'v': 'i',\n",
        " 'w': 'j',\n",
        " 'x': 'k',\n",
        " 'y': 'l',\n",
        " 'z': 'm'}"
       ]
      }
     ],
     "prompt_number": 84
    },
    {
     "cell_type": "heading",
     "level": 2,
     "metadata": {},
     "source": [
      "Comprehensions"
     ]
    },
    {
     "cell_type": "code",
     "collapsed": true,
     "input": [
      "x = input()   #  [1,2,42,100]\n",
      "\n",
      "l = [i * 2 for i in x]\n",
      "print type(l),l"
     ],
     "language": "python",
     "metadata": {},
     "outputs": [
      {
       "name": "stdout",
       "output_type": "stream",
       "stream": "stdout",
       "text": [
        "[1,2,3,\"abc\",[1,2]]\n"
       ]
      },
      {
       "output_type": "stream",
       "stream": "stdout",
       "text": [
        "<type 'list'> [2, 4, 6, 'abcabc', [1, 2, 1, 2]]\n"
       ]
      }
     ],
     "prompt_number": 88
    },
    {
     "cell_type": "code",
     "collapsed": true,
     "input": [],
     "language": "python",
     "metadata": {},
     "outputs": []
    },
    {
     "cell_type": "markdown",
     "metadata": {},
     "source": [
      "Leap year example"
     ]
    },
    {
     "cell_type": "code",
     "collapsed": false,
     "input": [
      "\n",
      "# with cycle:\n",
      "\n",
      "leaps = []\n",
      "for year in range(1900, 2001):\n",
      "    if (year % 4 == 0 and year % 100 != 0) or (year % 400 == 0):\n",
      "        leaps.append(year)\n",
      "        \n",
      "print leaps"
     ],
     "language": "python",
     "metadata": {},
     "outputs": [
      {
       "output_type": "stream",
       "stream": "stdout",
       "text": [
        "[1904, 1908, 1912, 1916, 1920, 1924, 1928, 1932, 1936, 1940, 1944, 1948, 1952, 1956, 1960, 1964, 1968, 1972, 1976, 1980, 1984, 1988, 1992, 1996, 2000]\n"
       ]
      }
     ],
     "prompt_number": 90
    },
    {
     "cell_type": "code",
     "collapsed": true,
     "input": [
      "# with list comprehension ?\n",
      "\n"
     ],
     "language": "python",
     "metadata": {},
     "outputs": []
    },
    {
     "cell_type": "code",
     "collapsed": false,
     "input": [
      "\n",
      "\n",
      "\n",
      "\n",
      "# with list comprehension:\n",
      "\n",
      "\n",
      "\n",
      "\n",
      "\n",
      "\n",
      "leaps = [y for y in range(1900, 2001)\n",
      "         if (y % 4 == 0 and y % 100 != 0) or (y % 400 == 0)]\n",
      "\n",
      "print leaps"
     ],
     "language": "python",
     "metadata": {},
     "outputs": [
      {
       "output_type": "stream",
       "stream": "stdout",
       "text": [
        "[1904, 1908, 1912, 1916, 1920, 1924, 1928, 1932, 1936, 1940, 1944, 1948, 1952, 1956, 1960, 1964, 1968, 1972, 1976, 1980, 1984, 1988, 1992, 1996, 2000]\n"
       ]
      }
     ],
     "prompt_number": 13
    },
    {
     "cell_type": "markdown",
     "metadata": {},
     "source": [
      "combinations...\n",
      "\n",
      "**Task:**\n",
      "Get all valid letter combinations of clothes to a list! Codes symbol the gender, size and color. There is no woman dress with eXtra large size! :)"
     ]
    },
    {
     "cell_type": "code",
     "collapsed": true,
     "input": [],
     "language": "python",
     "metadata": {},
     "outputs": []
    },
    {
     "cell_type": "code",
     "collapsed": false,
     "input": [
      "\n",
      "# with cycles:\n",
      "\n",
      "codes = []\n",
      "\n",
      "for sex in \"MF\": # Male, Female\n",
      "    for size in \"SMLX\": # Small, Medium, Large, eXtra large\n",
      "        if sex == \"F\" and size == \"X\":\n",
      "            continue\n",
      "        for color in \"BGW\": # Black, Gray, White\n",
      "            codes.append(sex + size + color)\n",
      "            \n",
      "print codes"
     ],
     "language": "python",
     "metadata": {},
     "outputs": [
      {
       "output_type": "stream",
       "stream": "stdout",
       "text": [
        "['MSB', 'MSG', 'MSW', 'MMB', 'MMG', 'MMW', 'MLB', 'MLG', 'MLW', 'MXB', 'MXG', 'MXW', 'FSB', 'FSG', 'FSW', 'FMB', 'FMG', 'FMW', 'FLB', 'FLG', 'FLW']\n"
       ]
      }
     ],
     "prompt_number": 92
    },
    {
     "cell_type": "code",
     "collapsed": false,
     "input": [
      "\n",
      "\n",
      "\n",
      "\n",
      "# with combination comprehension:\n",
      "\n",
      "\n",
      "\n",
      "\n",
      "\n",
      "codes = [s + z + c for s in \"MF\" for z in \"SMLX\" for c in \"BGW\"\n",
      "         if not (s == \"F\" and z == \"X\")]\n",
      "\n",
      "print codes"
     ],
     "language": "python",
     "metadata": {},
     "outputs": [
      {
       "output_type": "stream",
       "stream": "stdout",
       "text": [
        "['MSB', 'MSG', 'MSW', 'MMB', 'MMG', 'MMW', 'MLB', 'MLG', 'MLW', 'MXB', 'MXG', 'MXW', 'FSB', 'FSG', 'FSW', 'FMB', 'FMG', 'FMW', 'FLB', 'FLG', 'FLW']\n"
       ]
      }
     ],
     "prompt_number": 93
    },
    {
     "cell_type": "heading",
     "level": 4,
     "metadata": {},
     "source": [
      "Also works with `set` and `dict`!"
     ]
    },
    {
     "cell_type": "code",
     "collapsed": true,
     "input": [
      "from os import listdir\n",
      "\n",
      "files = listdir(\"/path/to/somewhere\")\n",
      "\n",
      "# create set with just the html files\n",
      "html = {x for x in files if x.lower().endswith((\".htm\", \".html\"))}"
     ],
     "language": "python",
     "metadata": {},
     "outputs": []
    },
    {
     "cell_type": "code",
     "collapsed": false,
     "input": [
      "import os\n",
      "\n",
      "file_sizes = {name: os.path.getsize(name) for name in os.listdir(\".\")\n",
      "              if os.path.isfile(name)}\n",
      "\n",
      "for f in file_sizes:\n",
      "    print \"%30s\\t\\t%d\"%(f, file_sizes[f])"
     ],
     "language": "python",
     "metadata": {},
     "outputs": []
    },
    {
     "cell_type": "code",
     "collapsed": true,
     "input": [],
     "language": "python",
     "metadata": {},
     "outputs": []
    },
    {
     "cell_type": "heading",
     "level": 4,
     "metadata": {},
     "source": [
      "The `this` sample"
     ]
    },
    {
     "cell_type": "code",
     "collapsed": false,
     "input": [
      "import this\n",
      "\n",
      "dir(this)\n",
      "\n",
      "print this.s"
     ],
     "language": "python",
     "metadata": {},
     "outputs": []
    },
    {
     "cell_type": "code",
     "collapsed": false,
     "input": [
      "\n",
      "\n",
      "\n",
      "# the pythonic way:\n",
      "\n",
      "\n",
      "\n",
      "\n",
      "\n",
      "print ''.join([(this.d[c] if c in this.d.keys() else c) for c in this.s])"
     ],
     "language": "python",
     "metadata": {},
     "outputs": []
    },
    {
     "cell_type": "code",
     "collapsed": true,
     "input": [],
     "language": "python",
     "metadata": {},
     "outputs": []
    },
    {
     "cell_type": "markdown",
     "metadata": {},
     "source": [
      "----"
     ]
    },
    {
     "cell_type": "heading",
     "level": 2,
     "metadata": {},
     "source": [
      "Generators and iterators..."
     ]
    },
    {
     "cell_type": "code",
     "collapsed": true,
     "input": [],
     "language": "python",
     "metadata": {},
     "outputs": []
    }
   ],
   "metadata": {}
  }
 ]
}